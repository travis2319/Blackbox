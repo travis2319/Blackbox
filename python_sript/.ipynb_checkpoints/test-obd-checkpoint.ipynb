{
 "cells": [
  {
   "cell_type": "code",
   "execution_count": 22,
   "id": "60ef5358-34f9-4bcb-9ce4-c26b042906d4",
   "metadata": {},
   "outputs": [
    {
     "name": "stdout",
     "output_type": "stream",
     "text": [
      "Requirement already satisfied: obd in c:\\users\\travi\\appdata\\local\\programs\\python\\python311\\lib\\site-packages (0.7.2)\n",
      "Requirement already satisfied: pandas in c:\\users\\travi\\appdata\\local\\programs\\python\\python311\\lib\\site-packages (2.2.2)\n",
      "Requirement already satisfied: pyserial==3.* in c:\\users\\travi\\appdata\\local\\programs\\python\\python311\\lib\\site-packages (from obd) (3.5)\n",
      "Requirement already satisfied: pint==0.20.* in c:\\users\\travi\\appdata\\local\\programs\\python\\python311\\lib\\site-packages (from obd) (0.20.1)\n",
      "Requirement already satisfied: numpy>=1.23.2 in c:\\users\\travi\\appdata\\local\\programs\\python\\python311\\lib\\site-packages (from pandas) (1.26.4)\n",
      "Requirement already satisfied: python-dateutil>=2.8.2 in c:\\users\\travi\\appdata\\local\\programs\\python\\python311\\lib\\site-packages (from pandas) (2.9.0.post0)\n",
      "Requirement already satisfied: pytz>=2020.1 in c:\\users\\travi\\appdata\\local\\programs\\python\\python311\\lib\\site-packages (from pandas) (2024.1)\n",
      "Requirement already satisfied: tzdata>=2022.7 in c:\\users\\travi\\appdata\\local\\programs\\python\\python311\\lib\\site-packages (from pandas) (2024.1)\n",
      "Requirement already satisfied: six>=1.5 in c:\\users\\travi\\appdata\\local\\programs\\python\\python311\\lib\\site-packages (from python-dateutil>=2.8.2->pandas) (1.16.0)\n",
      "Note: you may need to restart the kernel to use updated packages.\n"
     ]
    }
   ],
   "source": [
    "pip install obd pandas"
   ]
  },
  {
   "cell_type": "code",
   "execution_count": 20,
   "id": "7fa38cab-1147-49f2-a149-327ae80ed52e",
   "metadata": {},
   "outputs": [
    {
     "name": "stdout",
     "output_type": "stream",
     "text": [
      "2.2.2\n",
      "0.7.2\n"
     ]
    }
   ],
   "source": [
    "import pandas as pd\n",
    "import obd as ob\n",
    "print(pd.__version__)\n",
    "print(ob.__version__)\n"
   ]
  },
  {
   "cell_type": "code",
   "execution_count": null,
   "id": "62363180-7650-4b08-b069-73a99e722ab9",
   "metadata": {},
   "outputs": [],
   "source": []
  }
 ],
 "metadata": {
  "kernelspec": {
   "display_name": "Python 3 (ipykernel)",
   "language": "python",
   "name": "python3"
  },
  "language_info": {
   "codemirror_mode": {
    "name": "ipython",
    "version": 3
   },
   "file_extension": ".py",
   "mimetype": "text/x-python",
   "name": "python",
   "nbconvert_exporter": "python",
   "pygments_lexer": "ipython3",
   "version": "3.11.7"
  }
 },
 "nbformat": 4,
 "nbformat_minor": 5
}
