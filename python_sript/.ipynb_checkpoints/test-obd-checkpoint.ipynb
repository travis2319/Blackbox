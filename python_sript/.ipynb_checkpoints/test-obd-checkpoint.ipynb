{
 "cells": [
  {
   "cell_type": "markdown",
   "id": "3e81b549",
   "metadata": {},
   "source": [
    "Installing prereauizite modules"
   ]
  },
  {
   "cell_type": "code",
   "execution_count": 6,
   "id": "0e55c841",
   "metadata": {},
   "outputs": [
    {
     "name": "stdout",
     "output_type": "stream",
     "text": [
      "Defaulting to user installation because normal site-packages is not writeable\n",
      "Looking in indexes: https://pypi.org/simple, https://www.piwheels.org/simple\n",
      "Requirement already satisfied: obd in /home/travis/.local/lib/python3.11/site-packages (0.7.2)\n",
      "Requirement already satisfied: numpy in /usr/lib/python3/dist-packages (1.24.2)\n",
      "Requirement already satisfied: pandas in /usr/lib/python3/dist-packages (1.5.3)\n",
      "Requirement already satisfied: matplotlib in /usr/lib/python3/dist-packages (3.6.3)\n",
      "Requirement already satisfied: pyserial==3.* in /usr/lib/python3/dist-packages (from obd) (3.5)\n",
      "Requirement already satisfied: pint==0.20.* in /home/travis/.local/lib/python3.11/site-packages (from obd) (0.20.1)\n",
      "Note: you may need to restart the kernel to use updated packages.\n"
     ]
    }
   ],
   "source": [
    "%pip install obd numpy pandas matplotlib --break-system-packages"
   ]
  },
  {
   "cell_type": "markdown",
   "id": "4fee2913",
   "metadata": {},
   "source": [
    "Checking versions of modules"
   ]
  },
  {
   "cell_type": "code",
   "execution_count": 5,
   "id": "7fa38cab-1147-49f2-a149-327ae80ed52e",
   "metadata": {},
   "outputs": [
    {
     "name": "stdout",
     "output_type": "stream",
     "text": [
      "pandas version: 1.5.3\n",
      "numpy version: 1.24.2\n",
      "obd version: 0.7.2\n",
      "matplotlib version: 3.6.3\n",
      "Time: Sat May 11 19:58:47 2024\n"
     ]
    }
   ],
   "source": [
    "import pandas as pd\n",
    "import numpy as np\n",
    "import matplotlib\n",
    "import obd\n",
    "import time\n",
    "import datetime\n",
    "\n",
    "# Print library versions\n",
    "print(f\"pandas version: {pd.__version__}\")\n",
    "print(f\"numpy version: {np.__version__}\")\n",
    "print(f\"obd version: {obd.__version__}\")\n",
    "print(f\"matplotlib version: {matplotlib.__version__}\")\n",
    "\n",
    "# Print current time\n",
    "print(f\"Time: {datetime.datetime.now().ctime()}\")"
   ]
  },
  {
   "cell_type": "markdown",
   "id": "64dba5ab",
   "metadata": {},
   "source": [
    "Checks ports for debuging "
   ]
  },
  {
   "cell_type": "code",
   "execution_count": 7,
   "id": "81f4cd93-8405-4483-b017-bfff7ad8ee7f",
   "metadata": {},
   "outputs": [
    {
     "name": "stdout",
     "output_type": "stream",
     "text": [
      "[]\n"
     ]
    }
   ],
   "source": [
    "ports = obd.scan_serial()      # return list of valid USB or RF ports\n",
    "print(ports)                   # ['/dev/ttyUSB0', '/dev/ttyUSB1']\n",
    "# connection = obd.OBD() # connect to the first port in the list"
   ]
  },
  {
   "cell_type": "code",
   "execution_count": 14,
   "id": "803f7802",
   "metadata": {},
   "outputs": [
    {
     "name": "stdout",
     "output_type": "stream",
     "text": [
      "\u001b[0m\u001b[40;33;01mautofs\u001b[0m           \u001b[40;33;01mloop1\u001b[0m         \u001b[40;33;01mram5\u001b[0m        \u001b[40;33;01mtty26\u001b[0m  \u001b[40;33;01mtty59\u001b[0m      \u001b[40;33;01mvcsu3\u001b[0m\r\n",
      "\u001b[01;34mblock\u001b[0m/           \u001b[40;33;01mloop2\u001b[0m         \u001b[40;33;01mram6\u001b[0m        \u001b[40;33;01mtty27\u001b[0m  \u001b[40;33;01mtty6\u001b[0m       \u001b[40;33;01mvcsu4\u001b[0m\r\n",
      "\u001b[40;33;01mbtrfs-control\u001b[0m    \u001b[40;33;01mloop3\u001b[0m         \u001b[40;33;01mram7\u001b[0m        \u001b[40;33;01mtty28\u001b[0m  \u001b[40;33;01mtty60\u001b[0m      \u001b[40;33;01mvcsu5\u001b[0m\r\n",
      "\u001b[01;34mbus\u001b[0m/             \u001b[40;33;01mloop4\u001b[0m         \u001b[40;33;01mram8\u001b[0m        \u001b[40;33;01mtty29\u001b[0m  \u001b[40;33;01mtty61\u001b[0m      \u001b[40;33;01mvcsu6\u001b[0m\r\n",
      "\u001b[40;33;01mcachefiles\u001b[0m       \u001b[40;33;01mloop5\u001b[0m         \u001b[40;33;01mram9\u001b[0m        \u001b[40;33;01mtty3\u001b[0m   \u001b[40;33;01mtty62\u001b[0m      \u001b[40;33;01mvcsu7\u001b[0m\r\n",
      "\u001b[40;33;01mcec0\u001b[0m             \u001b[40;33;01mloop6\u001b[0m         \u001b[40;33;01mrandom\u001b[0m      \u001b[40;33;01mtty30\u001b[0m  \u001b[40;33;01mtty63\u001b[0m      \u001b[40;33;01mvga_arbiter\u001b[0m\r\n",
      "\u001b[40;33;01mcec1\u001b[0m             \u001b[40;33;01mloop7\u001b[0m         \u001b[40;33;01mrfkill\u001b[0m      \u001b[40;33;01mtty31\u001b[0m  \u001b[40;33;01mtty7\u001b[0m       \u001b[40;33;01mvhci\u001b[0m\r\n",
      "\u001b[01;34mchar\u001b[0m/            \u001b[40;33;01mloop-control\u001b[0m  \u001b[01;36mrtc\u001b[0m@        \u001b[40;33;01mtty32\u001b[0m  \u001b[40;33;01mtty8\u001b[0m       \u001b[40;33;01mvhost-net\u001b[0m\r\n",
      "\u001b[40;33;01mconsole\u001b[0m          \u001b[01;34mmapper\u001b[0m/       \u001b[40;33;01mrtc0\u001b[0m        \u001b[40;33;01mtty33\u001b[0m  \u001b[40;33;01mtty9\u001b[0m       \u001b[40;33;01mvhost-vsock\u001b[0m\r\n",
      "\u001b[40;33;01mcpu_dma_latency\u001b[0m  \u001b[40;33;01mmedia0\u001b[0m        \u001b[01;36mserial0\u001b[0m@    \u001b[40;33;01mtty34\u001b[0m  \u001b[40;33;01mttyAMA10\u001b[0m   \u001b[40;33;01mvideo19\u001b[0m\r\n",
      "\u001b[40;33;01mcuse\u001b[0m             \u001b[40;33;01mmedia1\u001b[0m        \u001b[30;42mshm\u001b[0m/        \u001b[40;33;01mtty35\u001b[0m  \u001b[40;33;01mttyprintk\u001b[0m  \u001b[40;33;01mvideo20\u001b[0m\r\n",
      "\u001b[01;34mdisk\u001b[0m/            \u001b[40;33;01mmedia2\u001b[0m        \u001b[01;34msnd\u001b[0m/        \u001b[40;33;01mtty36\u001b[0m  \u001b[40;33;01muhid\u001b[0m       \u001b[40;33;01mvideo21\u001b[0m\r\n",
      "\u001b[01;34mdma_heap\u001b[0m/        \u001b[40;33;01mmem\u001b[0m           \u001b[40;33;01mspidev10.0\u001b[0m  \u001b[40;33;01mtty37\u001b[0m  \u001b[40;33;01muinput\u001b[0m     \u001b[40;33;01mvideo22\u001b[0m\r\n",
      "\u001b[01;34mdri\u001b[0m/             \u001b[40;33;01mmmcblk0\u001b[0m       \u001b[01;36mstderr\u001b[0m@     \u001b[40;33;01mtty38\u001b[0m  \u001b[40;33;01murandom\u001b[0m    \u001b[40;33;01mvideo23\u001b[0m\r\n",
      "\u001b[01;36mfd\u001b[0m@              \u001b[40;33;01mmmcblk0p1\u001b[0m     \u001b[01;36mstdin\u001b[0m@      \u001b[40;33;01mtty39\u001b[0m  \u001b[01;34mv4l\u001b[0m/       \u001b[40;33;01mvideo24\u001b[0m\r\n",
      "\u001b[40;33;01mfull\u001b[0m             \u001b[40;33;01mmmcblk0p2\u001b[0m     \u001b[01;36mstdout\u001b[0m@     \u001b[40;33;01mtty4\u001b[0m   \u001b[40;33;01mvcio\u001b[0m       \u001b[40;33;01mvideo25\u001b[0m\r\n",
      "\u001b[40;33;01mfuse\u001b[0m             \u001b[30;42mmqueue\u001b[0m/       \u001b[40;33;01mtty\u001b[0m         \u001b[40;33;01mtty40\u001b[0m  \u001b[40;33;01mvc-mem\u001b[0m     \u001b[40;33;01mvideo26\u001b[0m\r\n",
      "\u001b[40;33;01mgpiochip0\u001b[0m        \u001b[01;34mnet\u001b[0m/          \u001b[40;33;01mtty0\u001b[0m        \u001b[40;33;01mtty41\u001b[0m  \u001b[40;33;01mvcs\u001b[0m        \u001b[40;33;01mvideo27\u001b[0m\r\n",
      "\u001b[40;33;01mgpiochip1\u001b[0m        \u001b[40;33;01mnull\u001b[0m          \u001b[40;33;01mtty1\u001b[0m        \u001b[40;33;01mtty42\u001b[0m  \u001b[40;33;01mvcs1\u001b[0m       \u001b[40;33;01mvideo28\u001b[0m\r\n",
      "\u001b[40;33;01mgpiochip2\u001b[0m        \u001b[40;33;01mport\u001b[0m          \u001b[40;33;01mtty10\u001b[0m       \u001b[40;33;01mtty43\u001b[0m  \u001b[40;33;01mvcs2\u001b[0m       \u001b[40;33;01mvideo29\u001b[0m\r\n",
      "\u001b[40;33;01mgpiochip3\u001b[0m        \u001b[40;33;01mppp\u001b[0m           \u001b[40;33;01mtty11\u001b[0m       \u001b[40;33;01mtty44\u001b[0m  \u001b[40;33;01mvcs3\u001b[0m       \u001b[40;33;01mvideo30\u001b[0m\r\n",
      "\u001b[40;33;01mgpiochip4\u001b[0m        \u001b[40;33;01mpps0\u001b[0m          \u001b[40;33;01mtty12\u001b[0m       \u001b[40;33;01mtty45\u001b[0m  \u001b[40;33;01mvcs4\u001b[0m       \u001b[40;33;01mvideo31\u001b[0m\r\n",
      "\u001b[40;33;01mgpiomem0\u001b[0m         \u001b[40;33;01mptmx\u001b[0m          \u001b[40;33;01mtty13\u001b[0m       \u001b[40;33;01mtty46\u001b[0m  \u001b[40;33;01mvcs5\u001b[0m       \u001b[40;33;01mvideo32\u001b[0m\r\n",
      "\u001b[40;33;01mgpiomem1\u001b[0m         \u001b[40;33;01mptp0\u001b[0m          \u001b[40;33;01mtty14\u001b[0m       \u001b[40;33;01mtty47\u001b[0m  \u001b[40;33;01mvcs6\u001b[0m       \u001b[40;33;01mvideo33\u001b[0m\r\n",
      "\u001b[40;33;01mgpiomem2\u001b[0m         \u001b[01;34mpts\u001b[0m/          \u001b[40;33;01mtty15\u001b[0m       \u001b[40;33;01mtty48\u001b[0m  \u001b[40;33;01mvcs7\u001b[0m       \u001b[40;33;01mvideo34\u001b[0m\r\n",
      "\u001b[40;33;01mgpiomem3\u001b[0m         \u001b[40;33;01mram0\u001b[0m          \u001b[40;33;01mtty16\u001b[0m       \u001b[40;33;01mtty49\u001b[0m  \u001b[40;33;01mvcsa\u001b[0m       \u001b[40;33;01mvideo35\u001b[0m\r\n",
      "\u001b[40;33;01mgpiomem4\u001b[0m         \u001b[40;33;01mram1\u001b[0m          \u001b[40;33;01mtty17\u001b[0m       \u001b[40;33;01mtty5\u001b[0m   \u001b[40;33;01mvcsa1\u001b[0m      \u001b[40;33;01mvideo36\u001b[0m\r\n",
      "\u001b[40;33;01mhwrng\u001b[0m            \u001b[40;33;01mram10\u001b[0m         \u001b[40;33;01mtty18\u001b[0m       \u001b[40;33;01mtty50\u001b[0m  \u001b[40;33;01mvcsa2\u001b[0m      \u001b[40;33;01mvideo37\u001b[0m\r\n",
      "\u001b[40;33;01mi2c-11\u001b[0m           \u001b[40;33;01mram11\u001b[0m         \u001b[40;33;01mtty19\u001b[0m       \u001b[40;33;01mtty51\u001b[0m  \u001b[40;33;01mvcsa3\u001b[0m      \u001b[40;33;01mwatchdog\u001b[0m\r\n",
      "\u001b[40;33;01mi2c-12\u001b[0m           \u001b[40;33;01mram12\u001b[0m         \u001b[40;33;01mtty2\u001b[0m        \u001b[40;33;01mtty52\u001b[0m  \u001b[40;33;01mvcsa4\u001b[0m      \u001b[40;33;01mwatchdog0\u001b[0m\r\n",
      "\u001b[01;36minitctl\u001b[0m@         \u001b[40;33;01mram13\u001b[0m         \u001b[40;33;01mtty20\u001b[0m       \u001b[40;33;01mtty53\u001b[0m  \u001b[40;33;01mvcsa5\u001b[0m      \u001b[40;33;01mzero\u001b[0m\r\n",
      "\u001b[01;34minput\u001b[0m/           \u001b[40;33;01mram14\u001b[0m         \u001b[40;33;01mtty21\u001b[0m       \u001b[40;33;01mtty54\u001b[0m  \u001b[40;33;01mvcsa6\u001b[0m\r\n",
      "\u001b[40;33;01mkmsg\u001b[0m             \u001b[40;33;01mram15\u001b[0m         \u001b[40;33;01mtty22\u001b[0m       \u001b[40;33;01mtty55\u001b[0m  \u001b[40;33;01mvcsa7\u001b[0m\r\n",
      "\u001b[40;33;01mkvm\u001b[0m              \u001b[40;33;01mram2\u001b[0m          \u001b[40;33;01mtty23\u001b[0m       \u001b[40;33;01mtty56\u001b[0m  \u001b[40;33;01mvcsu\u001b[0m\r\n",
      "\u001b[01;36mlog\u001b[0m@             \u001b[40;33;01mram3\u001b[0m          \u001b[40;33;01mtty24\u001b[0m       \u001b[40;33;01mtty57\u001b[0m  \u001b[40;33;01mvcsu1\u001b[0m\r\n",
      "\u001b[40;33;01mloop0\u001b[0m            \u001b[40;33;01mram4\u001b[0m          \u001b[40;33;01mtty25\u001b[0m       \u001b[40;33;01mtty58\u001b[0m  \u001b[40;33;01mvcsu2\u001b[0m\r\n"
     ]
    }
   ],
   "source": [
    "%ls /dev/"
   ]
  },
  {
   "cell_type": "code",
   "execution_count": null,
   "id": "0189150a",
   "metadata": {},
   "outputs": [],
   "source": [
    "obd_connector=\"/dev/ttyACM0\""
   ]
  },
  {
   "cell_type": "code",
   "execution_count": null,
   "id": "62363180-7650-4b08-b069-73a99e722ab9",
   "metadata": {},
   "outputs": [],
   "source": [
    "# connection = obd.OBD(\"/dev/ttyACM0\") # create connection with USB 0\n",
    "# print(connection)\n",
    "# cmd = obd.commands.COOLANT_TEMP\n",
    "# response = connection.query(cmd)\n",
    "# print(response.value)\n",
    "\n",
    "#xxxxxxxxxxxxxxxxxxxxxxxxxxxxxxxxxxxxxxxxxxxxxxxxxxxxxxxxxxxxxxxxxxxx\n",
    "# connection = obd.OBD(\"/dev/ttyACM0\")  # create connection with USB 0\n",
    "\n",
    "# cmd = obd.commands.COOLANT_TEMP\n",
    "\n",
    "# while True:\n",
    "#     response = connection.query(cmd)\n",
    "#     print(response.value)\n",
    "#     time.sleep(1)  # delay for 1 second"
   ]
  },
  {
   "cell_type": "markdown",
   "id": "a61b013a",
   "metadata": {},
   "source": [
    "Below code request's only one query and store it in csv using pandas"
   ]
  },
  {
   "cell_type": "code",
   "execution_count": null,
   "id": "d9e3fe7a-fe54-40ac-a93f-22714b1ff8bd",
   "metadata": {},
   "outputs": [],
   "source": [
    "# Create a connection with the OBD-II interface\n",
    "connection = obd.OBD(\"/dev/ttyACM0\")\n",
    "\n",
    "# Define the command to read the coolant temperature\n",
    "cmd = obd.commands.COOLANT_TEMP\n",
    "\n",
    "# Create a Pandas DataFrame to store the data\n",
    "df = pd.DataFrame(columns=[\"Time\", \"Coolant Temp\"])\n",
    "\n",
    "while True:\n",
    "    # Query the OBD-II interface for the coolant temperature\n",
    "    response = connection.query(cmd)\n",
    "    \n",
    "    # Get the current time\n",
    "    timestamp = datetime.datetime.now().ctime()\n",
    "    \n",
    "    # Store the data in the Pandas DataFrame\n",
    "    df.loc[len(df)] = [timestamp, response.value]\n",
    "    \n",
    "    # Print the data\n",
    "    print(f\"Time: {timestamp}, Coolant Temp: {response.value}\")\n",
    "    \n",
    "    # Delay for 1 second\n",
    "    time.sleep(1)"
   ]
  },
  {
   "cell_type": "code",
   "execution_count": 2,
   "id": "3a1a43a4-a695-46f3-a8fd-8b8e20e6b502",
   "metadata": {},
   "outputs": [
    {
     "name": "stderr",
     "output_type": "stream",
     "text": [
      "[obd.obd] ======================= python-OBD (v0.7.2) =======================\n",
      "[obd.obd] Explicit port defined\n",
      "[obd.elm327] Initializing ELM327: PORT=/dev/ttyACM0 BAUD=auto PROTOCOL=auto\n",
      "[obd.elm327] could not open port '/dev/ttyACM0': FileNotFoundError(2, 'The system cannot find the path specified.', None, 3)\n",
      "[obd.obd] Closing connection\n",
      "[obd.obd] Cannot load commands: No connection to car\n",
      "[obd.obd] ===================================================================\n",
      "[obd.obd] 'b'010C': Engine RPM' is not supported\n",
      "[obd.asynchronous] Async thread not started because no connection was made\n"
     ]
    }
   ],
   "source": [
    "obd.logger.setLevel(obd.logging.DEBUG)\n",
    "connection = obd.Async(\"/dev/ttyACM0\")\n",
    "\n",
    "# a callback that prints every new value to the console\n",
    "def new_rpm(r):\n",
    "    print (r.value)\n",
    "\n",
    "connection.watch(obd.commands.RPM, callback=new_rpm,force=False)\n",
    "connection.start()\n",
    "\n",
    "# the callback will now be fired upon receipt of new values\n",
    "\n",
    "time.sleep(60)\n",
    "connection.stop()"
   ]
  },
  {
   "cell_type": "code",
   "execution_count": null,
   "id": "cc789e36-2185-43e2-80a9-27c8c014c966",
   "metadata": {},
   "outputs": [],
   "source": [
    "print(\"hello\")\n",
    "obd.logger.setLevel(obd.logging.DEBUG)\n",
    "connection = obd.OBD(\"/dev/ttyACM0\") # create connection with USB 0\n",
    "print(connection)\n",
    "cmd = obd.commands.COOLANT_TEMP\n",
    "response = connection.query(cmd)\n",
    "print(response.value)\n"
   ]
  },
  {
   "cell_type": "code",
   "execution_count": 4,
   "id": "330488be-d370-4518-9f0b-e571aaeac297",
   "metadata": {},
   "outputs": [
    {
     "name": "stderr",
     "output_type": "stream",
     "text": [
      "[obd.elm327] [Errno 2] could not open port /dev/ttyACM0: [Errno 2] No such file or directory: '/dev/ttyACM0'\n",
      "[obd.obd] Cannot load commands: No connection to car\n",
      "[obd.obd] 'b'010D': Vehicle Speed' is not supported\n",
      "[obd.obd] 'b'015E': Engine fuel rate' is not supported\n"
     ]
    }
   ],
   "source": [
    "connection = obd.Async('/dev/ttyACM0')\n",
    "\n",
    "def callback(responses):\n",
    "    for r in responses:\n",
    "        print(r.value)\n",
    "\n",
    "connection.watch(obd.commands.SPEED, callback=callback)\n",
    "connection.watch(obd.commands.FUEL_RATE, callback=callback)\n",
    "connection.start()"
   ]
  }
 ],
 "metadata": {
  "kernelspec": {
   "display_name": "Python 3 (ipykernel)",
   "language": "python",
   "name": "python3"
  },
  "language_info": {
   "codemirror_mode": {
    "name": "ipython",
    "version": 3
   },
   "file_extension": ".py",
   "mimetype": "text/x-python",
   "name": "python",
   "nbconvert_exporter": "python",
   "pygments_lexer": "ipython3",
   "version": "3.11.2"
  }
 },
 "nbformat": 4,
 "nbformat_minor": 5
}
