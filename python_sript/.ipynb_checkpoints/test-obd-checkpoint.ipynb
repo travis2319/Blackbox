{
 "cells": [
  {
   "cell_type": "markdown",
   "id": "3e81b549",
   "metadata": {},
   "source": [
    "Installing prereauizite modules"
   ]
  },
  {
   "cell_type": "code",
   "execution_count": 1,
   "id": "0e55c841",
   "metadata": {},
   "outputs": [
    {
     "name": "stdout",
     "output_type": "stream",
     "text": [
      "Defaulting to user installation because normal site-packages is not writeable\n",
      "Looking in indexes: https://pypi.org/simple, https://www.piwheels.org/simple\n",
      "Requirement already satisfied: obd in /home/travis/.local/lib/python3.11/site-packages (0.7.2)\n",
      "Requirement already satisfied: numpy in /usr/lib/python3/dist-packages (1.24.2)\n",
      "Requirement already satisfied: pandas in /usr/lib/python3/dist-packages (1.5.3)\n",
      "Requirement already satisfied: matplotlib in /usr/lib/python3/dist-packages (3.6.3)\n",
      "Requirement already satisfied: pyserial==3.* in /usr/lib/python3/dist-packages (from obd) (3.5)\n",
      "Requirement already satisfied: pint==0.20.* in /home/travis/.local/lib/python3.11/site-packages (from obd) (0.20.1)\n",
      "Note: you may need to restart the kernel to use updated packages.\n"
     ]
    }
   ],
   "source": [
    "%pip install obd numpy pandas matplotlib --break-system-packages"
   ]
  },
  {
   "cell_type": "markdown",
   "id": "bdbcc251",
   "metadata": {},
   "source": [
    "Checking versions of modules"
   ]
  },
  {
   "cell_type": "code",
   "execution_count": 2,
   "id": "7fa38cab-1147-49f2-a149-327ae80ed52e",
   "metadata": {},
   "outputs": [
    {
     "name": "stdout",
     "output_type": "stream",
     "text": [
      "pandas version: 1.5.3\n",
      "numpy version: 1.24.2\n",
      "obd version: 0.7.2\n",
      "matplotlib version: 3.6.3\n",
      "Time: Sun May 12 16:25:51 2024\n"
     ]
    }
   ],
   "source": [
    "import pandas as pd\n",
    "import numpy as np\n",
    "import matplotlib\n",
    "import obd\n",
    "import time\n",
    "import datetime\n",
    "\n",
    "# Print library versions\n",
    "print(f\"pandas version: {pd.__version__}\")\n",
    "print(f\"numpy version: {np.__version__}\")\n",
    "print(f\"obd version: {obd.__version__}\")\n",
    "print(f\"matplotlib version: {matplotlib.__version__}\")\n",
    "\n",
    "# Print current time\n",
    "print(f\"Time: {datetime.datetime.now().ctime()}\")"
   ]
  },
  {
   "cell_type": "code",
   "execution_count": 3,
   "id": "78570cbc",
   "metadata": {},
   "outputs": [
    {
     "data": {
      "text/plain": [
       "'Car Connected'"
      ]
     },
     "execution_count": 3,
     "metadata": {},
     "output_type": "execute_result"
    }
   ],
   "source": [
    "from obd import OBDStatus\n",
    "\n",
    "# no connection is made\n",
    "OBDStatus.NOT_CONNECTED # \"Not Connected\"\n",
    "\n",
    "# successful communication with the ELM327 adapter\n",
    "OBDStatus.ELM_CONNECTED # \"ELM Connected\"\n",
    "\n",
    "# successful communication with the ELM327 adapter,\n",
    "# OBD port connected to the car, ignition off\n",
    "# (not available with argument \"check_voltage=False\")\n",
    "OBDStatus.OBD_CONNECTED # \"OBD Connected\"\n",
    "\n",
    "# successful communication with the ELM327 and the\n",
    "# vehicle; ignition on\n",
    "OBDStatus.CAR_CONNECTED # \"Car Connected\""
   ]
  },
  {
   "cell_type": "markdown",
   "id": "ae7c6dd9",
   "metadata": {},
   "source": [
    "Checks ports for debuging "
   ]
  },
  {
   "cell_type": "code",
   "execution_count": 4,
   "id": "81f4cd93-8405-4483-b017-bfff7ad8ee7f",
   "metadata": {},
   "outputs": [
    {
     "name": "stdout",
     "output_type": "stream",
     "text": [
      "[]\n"
     ]
    }
   ],
   "source": [
    "ports = obd.scan_serial()      # return list of valid USB or RF ports\n",
    "print(ports)                   # ['/dev/ttyUSB0', '/dev/ttyUSB1']\n",
    "# connection = obd.OBD() # connect to the first port in the list"
   ]
  },
  {
   "cell_type": "code",
   "execution_count": 5,
   "id": "d49d85fb",
   "metadata": {},
   "outputs": [
    {
     "name": "stdout",
     "output_type": "stream",
     "text": [
      "\u001b[0m\u001b[40;33;01m/dev/ttyACM0\u001b[0m\r\n"
     ]
    }
   ],
   "source": [
    "%ls /dev/ttyACM0"
   ]
  },
  {
   "cell_type": "code",
   "execution_count": 6,
   "id": "8bd8c3b1",
   "metadata": {},
   "outputs": [
    {
     "name": "stdout",
     "output_type": "stream",
     "text": [
      "/dev/ttyACM0\n"
     ]
    }
   ],
   "source": [
    "obd_connector=\"/dev/ttyACM0\"\n",
    "print(obd_connector)"
   ]
  },
  {
   "cell_type": "code",
   "execution_count": 7,
   "id": "62363180-7650-4b08-b069-73a99e722ab9",
   "metadata": {},
   "outputs": [
    {
     "name": "stderr",
     "output_type": "stream",
     "text": [
      "[obd.obd] ======================= python-OBD (v0.7.2) =======================\n",
      "[obd.obd] Explicit port defined\n",
      "[obd.elm327] Initializing ELM327: PORT=/dev/ttyACM0 BAUD=auto PROTOCOL=auto\n",
      "[obd.elm327] Response from baud 38400: b'\\r\\r?\\r\\n\\r\\n>\\r\\r?\\r\\n\\r\\n>??\\r\\n??\\r\\n\\x7f\\x7f\\r?\\r\\n\\r\\n>'\n",
      "[obd.elm327] Choosing baud 38400\n",
      "[obd.elm327] write: b'ATZ\\r'\n",
      "[obd.elm327] wait: 1 seconds\n",
      "[obd.elm327] read: b'ATZ\\rELM327 v1.5\\r\\n\\r\\n>'\n",
      "[obd.elm327] write: b'ATE0\\r'\n",
      "[obd.elm327] read: b'ATE0\\rOK\\r\\n\\r\\n>'\n",
      "[obd.elm327] write: b'ATH1\\r'\n",
      "[obd.elm327] read: b'OK\\r\\n\\r\\n>'\n",
      "[obd.elm327] write: b'ATL0\\r'\n",
      "[obd.elm327] read: b'OK\\r\\r>'\n",
      "[obd.elm327] write: b'AT RV\\r'\n",
      "[obd.elm327] read: b'13.6V\\r\\r>'\n",
      "[obd.elm327] write: b'ATSP0\\r'\n",
      "[obd.elm327] wait: 1 seconds\n",
      "[obd.elm327] read: b'OK\\r\\r>'\n",
      "[obd.elm327] write: b'0100\\r'\n",
      "[obd.elm327] wait: 1 seconds\n",
      "[obd.elm327] read: b'SEARCHING...\\r7E8 06 41 00 BE 3E B8 13 \\r\\r>'\n",
      "[obd.elm327] write: b'ATDPN\\r'\n",
      "[obd.elm327] read: b'A6\\r\\r>'\n",
      "[obd.protocols.protocol] map ECU 0 --> ENGINE\n",
      "[obd.protocols.protocol] map ECU 1 --> TRANSMISSION\n",
      "[obd.elm327] Connected Successfully: PORT=/dev/ttyACM0 BAUD=38400 PROTOCOL=6\n",
      "[obd.obd] querying for supported commands\n",
      "[obd.obd] Sending command: b'0100': Supported PIDs [01-20]\n",
      "[obd.elm327] write: b'0100\\r'\n",
      "[obd.elm327] read: b'7E8 06 41 00 BE 3E B8 13 \\r\\r>'\n",
      "[obd.obd] Sending command: b'0120': Supported PIDs [21-40]\n",
      "[obd.elm327] write: b'0120\\r'\n",
      "[obd.elm327] read: b'7E8 06 41 20 80 05 A0 01 \\r\\r>'\n",
      "[obd.obd] Sending command: b'0140': Supported PIDs [41-60]\n",
      "[obd.elm327] write: b'0140\\r'\n",
      "[obd.elm327] read: b'7E8 06 41 40 6A D0 00 00 \\r\\r>'\n",
      "[obd.obd] Sending command: b'0600': Supported MIDs [01-20]\n",
      "[obd.elm327] write: b'0600\\r'\n",
      "[obd.elm327] read: b'7E8 06 46 00 C0 00 00 01 \\r\\r>'\n",
      "[obd.obd] Sending command: b'0620': Supported MIDs [21-40]\n",
      "[obd.elm327] write: b'0620\\r'\n",
      "[obd.elm327] read: b'7E8 06 46 20 80 00 08 00 \\r\\r>'\n",
      "[obd.obd] Sending command: b'0900': Supported PIDs [01-20]\n",
      "[obd.elm327] write: b'0900\\r'\n",
      "[obd.elm327] read: b'7E8 06 49 00 14 00 00 00 \\r\\r>'\n",
      "[obd.OBDCommand] Message was shorter than expected (6<7). Padded message: bytearray(b'I\\x00\\x14\\x00\\x00\\x00\\x00')\n",
      "[obd.obd] finished querying with 77 commands supported\n",
      "[obd.obd] ===================================================================\n",
      "[obd.obd] Sending command: b'0105': Engine Coolant Temperature\n",
      "[obd.elm327] write: b'0105\\r'\n",
      "[obd.elm327] read: b'7E8 03 41 05 80 \\r\\r>'\n"
     ]
    },
    {
     "name": "stdout",
     "output_type": "stream",
     "text": [
      "88 degree_Celsius\n"
     ]
    },
    {
     "name": "stderr",
     "output_type": "stream",
     "text": [
      "[obd.obd] Sending command: b'010D': Vehicle Speed\n",
      "[obd.elm327] write: b'010D\\r'\n",
      "[obd.elm327] read: b'7E8 03 41 0D 44 \\r\\r>'\n"
     ]
    },
    {
     "name": "stdout",
     "output_type": "stream",
     "text": [
      "68.0 kilometer_per_hour\n"
     ]
    },
    {
     "name": "stderr",
     "output_type": "stream",
     "text": [
      "[obd.obd] Sending command: b'0105': Engine Coolant Temperature\n",
      "[obd.elm327] write: b'01051\\r'\n",
      "[obd.elm327] read: b'7E8 03 41 05 80 \\r\\r>'\n"
     ]
    },
    {
     "name": "stdout",
     "output_type": "stream",
     "text": [
      "88 degree_Celsius\n"
     ]
    },
    {
     "name": "stderr",
     "output_type": "stream",
     "text": [
      "[obd.obd] Sending command: b'010D': Vehicle Speed\n",
      "[obd.elm327] write: b'010D1\\r'\n",
      "[obd.elm327] read: b'7E8 03 41 0D 46 \\r\\r>'\n"
     ]
    },
    {
     "name": "stdout",
     "output_type": "stream",
     "text": [
      "70.0 kilometer_per_hour\n"
     ]
    },
    {
     "name": "stderr",
     "output_type": "stream",
     "text": [
      "[obd.obd] Sending command: b'0105': Engine Coolant Temperature\n",
      "[obd.elm327] write: b'01051\\r'\n",
      "[obd.elm327] read: b'7E8 03 41 05 80 \\r\\r>'\n"
     ]
    },
    {
     "name": "stdout",
     "output_type": "stream",
     "text": [
      "88 degree_Celsius\n"
     ]
    },
    {
     "name": "stderr",
     "output_type": "stream",
     "text": [
      "[obd.obd] Sending command: b'010D': Vehicle Speed\n",
      "[obd.elm327] write: b'010D1\\r'\n",
      "[obd.elm327] read: b'7E8 03 41 0D 45 \\r\\r>'\n"
     ]
    },
    {
     "name": "stdout",
     "output_type": "stream",
     "text": [
      "69.0 kilometer_per_hour\n"
     ]
    },
    {
     "name": "stderr",
     "output_type": "stream",
     "text": [
      "[obd.obd] Sending command: b'0105': Engine Coolant Temperature\n",
      "[obd.elm327] write: b'01051\\r'\n",
      "[obd.elm327] read: b'7E8 03 41 05 81 \\r\\r>'\n"
     ]
    },
    {
     "name": "stdout",
     "output_type": "stream",
     "text": [
      "89 degree_Celsius\n"
     ]
    },
    {
     "name": "stderr",
     "output_type": "stream",
     "text": [
      "[obd.obd] Sending command: b'010D': Vehicle Speed\n",
      "[obd.elm327] write: b'010D1\\r'\n",
      "[obd.elm327] read: b'7E8 03 41 0D 3E \\r\\r>'\n"
     ]
    },
    {
     "name": "stdout",
     "output_type": "stream",
     "text": [
      "62.0 kilometer_per_hour\n"
     ]
    },
    {
     "name": "stderr",
     "output_type": "stream",
     "text": [
      "[obd.obd] Sending command: b'0105': Engine Coolant Temperature\n",
      "[obd.elm327] write: b'01051\\r'\n",
      "[obd.elm327] read: b'7E8 03 41 05 81 \\r\\r>'\n"
     ]
    },
    {
     "name": "stdout",
     "output_type": "stream",
     "text": [
      "89 degree_Celsius\n"
     ]
    },
    {
     "name": "stderr",
     "output_type": "stream",
     "text": [
      "[obd.obd] Sending command: b'010D': Vehicle Speed\n",
      "[obd.elm327] write: b'010D1\\r'\n",
      "[obd.elm327] read: b'7E8 03 41 0D 3E \\r\\r>'\n"
     ]
    },
    {
     "name": "stdout",
     "output_type": "stream",
     "text": [
      "62.0 kilometer_per_hour\n"
     ]
    },
    {
     "name": "stderr",
     "output_type": "stream",
     "text": [
      "[obd.obd] Sending command: b'0105': Engine Coolant Temperature\n",
      "[obd.elm327] write: b'01051\\r'\n",
      "[obd.elm327] read: b'7E8 03 41 05 82 \\r\\r>'\n"
     ]
    },
    {
     "name": "stdout",
     "output_type": "stream",
     "text": [
      "90 degree_Celsius\n"
     ]
    },
    {
     "name": "stderr",
     "output_type": "stream",
     "text": [
      "[obd.obd] Sending command: b'010D': Vehicle Speed\n",
      "[obd.elm327] write: b'010D1\\r'\n",
      "[obd.elm327] read: b'7E8 03 41 0D 3D \\r\\r>'\n"
     ]
    },
    {
     "name": "stdout",
     "output_type": "stream",
     "text": [
      "61.0 kilometer_per_hour\n"
     ]
    },
    {
     "name": "stderr",
     "output_type": "stream",
     "text": [
      "[obd.obd] Sending command: b'0105': Engine Coolant Temperature\n",
      "[obd.elm327] write: b'01051\\r'\n",
      "[obd.elm327] read: b'7E8 03 41 05 82 \\r\\r>'\n"
     ]
    },
    {
     "name": "stdout",
     "output_type": "stream",
     "text": [
      "90 degree_Celsius\n"
     ]
    },
    {
     "name": "stderr",
     "output_type": "stream",
     "text": [
      "[obd.obd] Sending command: b'010D': Vehicle Speed\n",
      "[obd.elm327] write: b'010D1\\r'\n",
      "[obd.elm327] read: b'7E8 03 41 0D 3B \\r\\r>'\n"
     ]
    },
    {
     "name": "stdout",
     "output_type": "stream",
     "text": [
      "59.0 kilometer_per_hour\n"
     ]
    },
    {
     "name": "stderr",
     "output_type": "stream",
     "text": [
      "[obd.obd] Sending command: b'0105': Engine Coolant Temperature\n",
      "[obd.elm327] write: b'01051\\r'\n",
      "[obd.elm327] read: b'7E8 03 41 05 82 \\r\\r>'\n"
     ]
    },
    {
     "name": "stdout",
     "output_type": "stream",
     "text": [
      "90 degree_Celsius\n"
     ]
    },
    {
     "name": "stderr",
     "output_type": "stream",
     "text": [
      "[obd.obd] Sending command: b'010D': Vehicle Speed\n",
      "[obd.elm327] write: b'010D1\\r'\n",
      "[obd.elm327] read: b'7E8 03 41 0D 3F \\r\\r>'\n"
     ]
    },
    {
     "name": "stdout",
     "output_type": "stream",
     "text": [
      "63.0 kilometer_per_hour\n"
     ]
    },
    {
     "name": "stderr",
     "output_type": "stream",
     "text": [
      "[obd.obd] Sending command: b'0105': Engine Coolant Temperature\n",
      "[obd.elm327] write: b'01051\\r'\n",
      "[obd.elm327] read: b'7E8 03 41 05 82 \\r\\r>'\n"
     ]
    },
    {
     "name": "stdout",
     "output_type": "stream",
     "text": [
      "90 degree_Celsius\n"
     ]
    },
    {
     "name": "stderr",
     "output_type": "stream",
     "text": [
      "[obd.obd] Sending command: b'010D': Vehicle Speed\n",
      "[obd.elm327] write: b'010D1\\r'\n",
      "[obd.elm327] read: b'7E8 03 41 0D 41 \\r\\r>'\n"
     ]
    },
    {
     "name": "stdout",
     "output_type": "stream",
     "text": [
      "65.0 kilometer_per_hour\n"
     ]
    },
    {
     "name": "stderr",
     "output_type": "stream",
     "text": [
      "[obd.obd] Sending command: b'0105': Engine Coolant Temperature\n",
      "[obd.elm327] write: b'01051\\r'\n",
      "[obd.elm327] read: b'7E8 03 41 05 82 \\r\\r>'\n"
     ]
    },
    {
     "name": "stdout",
     "output_type": "stream",
     "text": [
      "90 degree_Celsius\n"
     ]
    },
    {
     "name": "stderr",
     "output_type": "stream",
     "text": [
      "[obd.obd] Sending command: b'010D': Vehicle Speed\n",
      "[obd.elm327] write: b'010D1\\r'\n",
      "[obd.elm327] read: b'7E8 03 41 0D 41 \\r\\r>'\n"
     ]
    },
    {
     "name": "stdout",
     "output_type": "stream",
     "text": [
      "65.0 kilometer_per_hour\n"
     ]
    }
   ],
   "source": [
    "# connection = obd.OBD(obd_connector) # create connection with USB 0\n",
    "# print(connection)\n",
    "# cmd = obd.commands.COOLANT_TEMP\n",
    "# response = connection.query(cmd)\n",
    "# print(response.value)\n",
    "\n",
    "#xxxxxxxxxxxxxxxxxxxxxxxxxxxxxxxxxxxxxxxxxxxxxxxxxxxxxxxxxxxxxxxxxxxx\n",
    "obd.logger.setLevel(obd.logging.DEBUG)\n",
    "connection = obd.OBD(obd_connector)  # create connection with USB 0\n",
    "counter=0\n",
    "\n",
    "while counter <10:\n",
    "    cmd1 = obd.commands.COOLANT_TEMP\n",
    "    response = connection.query(cmd1)\n",
    "    print(response.value)\n",
    "    time.sleep(3)  # delay for 1 second\n",
    "    cmd2 = obd.commands.SPEED\n",
    "    response = connection.query(cmd2)\n",
    "    print(response.value)\n",
    "    time.sleep(3)  # delay for 1 second\n",
    "    counter=counter+1"
   ]
  },
  {
   "cell_type": "markdown",
   "id": "91ccb1b5",
   "metadata": {},
   "source": [
    "Below code request's only one query and store it in csv using pandas"
   ]
  },
  {
   "cell_type": "code",
   "execution_count": 8,
   "id": "d9e3fe7a-fe54-40ac-a93f-22714b1ff8bd",
   "metadata": {},
   "outputs": [
    {
     "name": "stderr",
     "output_type": "stream",
     "text": [
      "[obd.obd] ======================= python-OBD (v0.7.2) =======================\n",
      "[obd.obd] Explicit port defined\n",
      "[obd.elm327] Initializing ELM327: PORT=/dev/ttyACM0 BAUD=auto PROTOCOL=auto\n",
      "[obd.elm327] Response from baud 38400: b'?\\r\\r>'\n",
      "[obd.elm327] Choosing baud 38400\n",
      "[obd.elm327] write: b'ATZ\\r'\n",
      "[obd.elm327] wait: 1 seconds\n",
      "[obd.elm327] read: b'ELM327 v1.5\\r\\n\\r\\n>'\n",
      "[obd.elm327] write: b'ATE0\\r'\n",
      "[obd.elm327] read: b'ATE0\\rOK\\r\\n\\r\\n>'\n",
      "[obd.elm327] write: b'ATH1\\r'\n",
      "[obd.elm327] read: b'OK\\r\\n\\r\\n>'\n",
      "[obd.elm327] write: b'ATL0\\r'\n",
      "[obd.elm327] read: b'OK\\r\\r>'\n",
      "[obd.elm327] write: b'AT RV\\r'\n",
      "[obd.elm327] read: b'12.8V\\r\\r>'\n",
      "[obd.elm327] write: b'ATSP0\\r'\n",
      "[obd.elm327] wait: 1 seconds\n",
      "[obd.elm327] read: b'OK\\r\\r>'\n",
      "[obd.elm327] write: b'0100\\r'\n",
      "[obd.elm327] wait: 1 seconds\n",
      "[obd.elm327] read: b'SEARCHING...\\r7E8 06 41 00 BE 3E B8 13 \\r\\r>'\n",
      "[obd.elm327] write: b'ATDPN\\r'\n",
      "[obd.elm327] read: b'A6\\r\\r>'\n",
      "[obd.protocols.protocol] map ECU 0 --> ENGINE\n",
      "[obd.protocols.protocol] map ECU 1 --> TRANSMISSION\n",
      "[obd.elm327] Connected Successfully: PORT=/dev/ttyACM0 BAUD=38400 PROTOCOL=6\n",
      "[obd.obd] querying for supported commands\n",
      "[obd.obd] Sending command: b'0100': Supported PIDs [01-20]\n",
      "[obd.elm327] write: b'0100\\r'\n",
      "[obd.elm327] read: b'7E8 06 41 00 BE 3E B8 13 \\r\\r>'\n",
      "[obd.obd] Sending command: b'0120': Supported PIDs [21-40]\n",
      "[obd.elm327] write: b'0120\\r'\n",
      "[obd.elm327] read: b'7E8 06 41 20 80 05 A0 01 \\r\\r>'\n",
      "[obd.obd] Sending command: b'0140': Supported PIDs [41-60]\n",
      "[obd.elm327] write: b'0140\\r'\n",
      "[obd.elm327] read: b'7E8 06 41 40 6A D0 00 00 \\r\\r>'\n",
      "[obd.obd] Sending command: b'0600': Supported MIDs [01-20]\n",
      "[obd.elm327] write: b'0600\\r'\n",
      "[obd.elm327] read: b'7E8 06 46 00 C0 00 00 01 \\r\\r>'\n",
      "[obd.obd] Sending command: b'0620': Supported MIDs [21-40]\n",
      "[obd.elm327] write: b'0620\\r'\n",
      "[obd.elm327] read: b'7E8 06 46 20 80 00 08 00 \\r\\r>'\n",
      "[obd.obd] Sending command: b'0900': Supported PIDs [01-20]\n",
      "[obd.elm327] write: b'0900\\r'\n",
      "[obd.elm327] read: b'7E8 06 49 00 14 00 00 00 \\r\\r>'\n",
      "[obd.OBDCommand] Message was shorter than expected (6<7). Padded message: bytearray(b'I\\x00\\x14\\x00\\x00\\x00\\x00')\n",
      "[obd.obd] finished querying with 77 commands supported\n",
      "[obd.obd] ===================================================================\n",
      "[obd.obd] Sending command: b'0105': Engine Coolant Temperature\n",
      "[obd.elm327] write: b'0105\\r'\n",
      "[obd.elm327] read: b'7E8 03 41 05 81 \\r\\r>'\n",
      "[obd.obd] Sending command: b'010D': Vehicle Speed\n",
      "[obd.elm327] write: b'010D\\r'\n",
      "[obd.elm327] read: b'7E8 03 41 0D 48 \\r\\r>'\n"
     ]
    },
    {
     "name": "stdout",
     "output_type": "stream",
     "text": [
      "Counter: 0, Time: Sun May 12 15:57:23 2024, Coolant Temp: 89 degree_Celsius, Speed: 72.0 kilometer_per_hour\n"
     ]
    },
    {
     "name": "stderr",
     "output_type": "stream",
     "text": [
      "[obd.obd] Sending command: b'0105': Engine Coolant Temperature\n",
      "[obd.elm327] write: b'01051\\r'\n",
      "[obd.elm327] read: b'7E8 03 41 05 82 \\r\\r>'\n",
      "[obd.obd] Sending command: b'010D': Vehicle Speed\n",
      "[obd.elm327] write: b'010D1\\r'\n",
      "[obd.elm327] read: b'7E8 03 41 0D 47 \\r\\r>'\n"
     ]
    },
    {
     "name": "stdout",
     "output_type": "stream",
     "text": [
      "Counter: 1, Time: Sun May 12 15:57:27 2024, Coolant Temp: 90 degree_Celsius, Speed: 71.0 kilometer_per_hour\n"
     ]
    },
    {
     "name": "stderr",
     "output_type": "stream",
     "text": [
      "[obd.obd] Sending command: b'0105': Engine Coolant Temperature\n",
      "[obd.elm327] write: b'01051\\r'\n",
      "[obd.elm327] read: b'7E8 03 41 05 82 \\r\\r>'\n",
      "[obd.obd] Sending command: b'010D': Vehicle Speed\n",
      "[obd.elm327] write: b'010D1\\r'\n",
      "[obd.elm327] read: b'7E8 03 41 0D 42 \\r\\r>'\n"
     ]
    },
    {
     "name": "stdout",
     "output_type": "stream",
     "text": [
      "Counter: 2, Time: Sun May 12 15:57:31 2024, Coolant Temp: 90 degree_Celsius, Speed: 66.0 kilometer_per_hour\n"
     ]
    },
    {
     "name": "stderr",
     "output_type": "stream",
     "text": [
      "[obd.obd] Sending command: b'0105': Engine Coolant Temperature\n",
      "[obd.elm327] write: b'01051\\r'\n",
      "[obd.elm327] read: b'7E8 03 41 05 82 \\r\\r>'\n",
      "[obd.obd] Sending command: b'010D': Vehicle Speed\n",
      "[obd.elm327] write: b'010D1\\r'\n",
      "[obd.elm327] Failed to read port\n",
      "[obd.elm327] read: b'?\\r'\n",
      "[obd.OBDCommand] b'010D': Vehicle Speed did not receive any acceptable messages\n"
     ]
    },
    {
     "name": "stdout",
     "output_type": "stream",
     "text": [
      "Counter: 3, Time: Sun May 12 15:57:45 2024, Coolant Temp: 90 degree_Celsius, Speed: None\n"
     ]
    },
    {
     "name": "stderr",
     "output_type": "stream",
     "text": [
      "[obd.obd] Sending command: b'0105': Engine Coolant Temperature\n",
      "[obd.elm327] write: b'01051\\r'\n",
      "[obd.elm327] read: b'7E8 03 41 05 82 \\r\\r>'\n",
      "[obd.obd] Sending command: b'010D': Vehicle Speed\n",
      "[obd.elm327] write: b'010D1\\r'\n",
      "[obd.elm327] read: b'7E8 03 41 0D 3D \\r\\r>'\n"
     ]
    },
    {
     "name": "stdout",
     "output_type": "stream",
     "text": [
      "Counter: 4, Time: Sun May 12 15:57:49 2024, Coolant Temp: 90 degree_Celsius, Speed: 61.0 kilometer_per_hour\n"
     ]
    },
    {
     "name": "stderr",
     "output_type": "stream",
     "text": [
      "[obd.obd] Sending command: b'0105': Engine Coolant Temperature\n",
      "[obd.elm327] write: b'01051\\r'\n",
      "[obd.elm327] read: b'7E8 03 41 05 82 \\r\\r>'\n",
      "[obd.obd] Sending command: b'010D': Vehicle Speed\n",
      "[obd.elm327] write: b'010D1\\r'\n",
      "[obd.elm327] read: b'7E8 03 41 0D 3D \\r\\r>'\n"
     ]
    },
    {
     "name": "stdout",
     "output_type": "stream",
     "text": [
      "Counter: 5, Time: Sun May 12 15:57:54 2024, Coolant Temp: 90 degree_Celsius, Speed: 61.0 kilometer_per_hour\n"
     ]
    },
    {
     "name": "stderr",
     "output_type": "stream",
     "text": [
      "[obd.obd] Sending command: b'0105': Engine Coolant Temperature\n",
      "[obd.elm327] write: b'01051\\r'\n",
      "[obd.elm327] read: b'7E8 03 41 05 82 \\r\\r>'\n",
      "[obd.obd] Sending command: b'010D': Vehicle Speed\n",
      "[obd.elm327] write: b'010D1\\r'\n",
      "[obd.elm327] read: b'7E8 03 41 0D 42 \\r\\r>'\n"
     ]
    },
    {
     "name": "stdout",
     "output_type": "stream",
     "text": [
      "Counter: 6, Time: Sun May 12 15:57:58 2024, Coolant Temp: 90 degree_Celsius, Speed: 66.0 kilometer_per_hour\n"
     ]
    },
    {
     "name": "stderr",
     "output_type": "stream",
     "text": [
      "[obd.obd] Sending command: b'0105': Engine Coolant Temperature\n",
      "[obd.elm327] write: b'01051\\r'\n",
      "[obd.elm327] read: b'7E8 03 41 05 82 \\r\\r>'\n",
      "[obd.obd] Sending command: b'010D': Vehicle Speed\n",
      "[obd.elm327] write: b'010D1\\r'\n",
      "[obd.elm327] read: b'7E8 03 41 0D 42 \\r\\r>'\n"
     ]
    },
    {
     "name": "stdout",
     "output_type": "stream",
     "text": [
      "Counter: 7, Time: Sun May 12 15:58:02 2024, Coolant Temp: 90 degree_Celsius, Speed: 66.0 kilometer_per_hour\n"
     ]
    },
    {
     "name": "stderr",
     "output_type": "stream",
     "text": [
      "[obd.obd] Sending command: b'0105': Engine Coolant Temperature\n",
      "[obd.elm327] write: b'01051\\r'\n",
      "[obd.elm327] read: b'7E8 03 41 05 81 \\r\\r>'\n",
      "[obd.obd] Sending command: b'010D': Vehicle Speed\n",
      "[obd.elm327] write: b'010D1\\r'\n",
      "[obd.elm327] read: b'7E8 03 41 0D 40 \\r\\r>'\n"
     ]
    },
    {
     "name": "stdout",
     "output_type": "stream",
     "text": [
      "Counter: 8, Time: Sun May 12 15:58:06 2024, Coolant Temp: 89 degree_Celsius, Speed: 64.0 kilometer_per_hour\n"
     ]
    },
    {
     "name": "stderr",
     "output_type": "stream",
     "text": [
      "[obd.obd] Sending command: b'0105': Engine Coolant Temperature\n",
      "[obd.elm327] write: b'01051\\r'\n",
      "[obd.elm327] read: b'7E8 03 41 05 80 \\r\\r>'\n",
      "[obd.obd] Sending command: b'010D': Vehicle Speed\n",
      "[obd.elm327] write: b'010D1\\r'\n",
      "[obd.elm327] read: b'7E8 03 41 0D 48 \\r\\r>'\n"
     ]
    },
    {
     "name": "stdout",
     "output_type": "stream",
     "text": [
      "Counter: 9, Time: Sun May 12 15:58:10 2024, Coolant Temp: 88 degree_Celsius, Speed: 72.0 kilometer_per_hour\n"
     ]
    }
   ],
   "source": [
    "# Create a connection with the OBD-II interface\n",
    "connection = obd.OBD(obd_connector)\n",
    "\n",
    "# Define the command to read the coolant temperature\n",
    "cmd1 = obd.commands.COOLANT_TEMP\n",
    "cmd2 = obd.commands.SPEED\n",
    "counter=0\n",
    "# Create a Pandas DataFrame to store the data\n",
    "df = pd.DataFrame(columns=[\"Time\", \"Coolant Temp\",\"SPEED\"])\n",
    "\n",
    "while counter <10:\n",
    "    # Query the OBD-II interface for the coolant temperature\n",
    "    response1 = connection.query(cmd1)\n",
    "    \n",
    "    # Delay for 3 seconds\n",
    "    time.sleep(3)\n",
    "    \n",
    "    # Query the OBD-II interface for the Speed\n",
    "    response2 = connection.query(cmd2)\n",
    "    \n",
    "    # Store the data in the Pandas DataFrame\n",
    "    # df.loc[len(df)] = [timestamp, response1.value,response2.value]\n",
    "\n",
    "    # Get the current time\n",
    "    timestamp = datetime.datetime.now().ctime()\n",
    "    # Print the data\n",
    "    print(f\"Counter: {counter}, Time: {timestamp}, Coolant Temp: {response1.value}, Speed: {response2.value}\")\n",
    "    \n",
    "    # Delay for 1 second\n",
    "    time.sleep(1)\n",
    "    counter=counter+1"
   ]
  },
  {
   "cell_type": "code",
   "execution_count": 12,
   "id": "2f8a7a16",
   "metadata": {},
   "outputs": [
    {
     "name": "stderr",
     "output_type": "stream",
     "text": [
      "[obd.obd] ======================= python-OBD (v0.7.2) =======================\n",
      "[obd.obd] Explicit port defined\n",
      "[obd.elm327] Initializing ELM327: PORT=/dev/ttyACM0 BAUD=auto PROTOCOL=auto\n",
      "[obd.elm327] [Errno 2] could not open port /dev/ttyACM0: [Errno 2] No such file or directory: '/dev/ttyACM0'\n",
      "[obd.obd] Closing connection\n",
      "[obd.obd] Cannot load commands: No connection to car\n",
      "[obd.obd] ===================================================================\n",
      "[obd.obd] Query failed, no connection available\n",
      "[obd.obd] Query failed, no connection available\n",
      "[obd.obd] Query failed, no connection available\n",
      "[obd.obd] Query failed, no connection available\n",
      "[obd.obd] Query failed, no connection available\n",
      "\n",
      "KeyboardInterrupt\n",
      "\n"
     ]
    }
   ],
   "source": [
    "import pandas as pd\n",
    "\n",
    "# Create a connection with the OBD-II interface\n",
    "connection = obd.OBD(obd_connector)\n",
    "\n",
    "# Define the command to read the coolant temperature\n",
    "cmd1 = obd.commands.COOLANT_TEMP\n",
    "cmd2 = obd.commands.SPEED\n",
    "cmd3= obd.commands.ENGINE_LOAD\n",
    "cmd4 = obd.commands.RUN_TIME\n",
    "cmd5 = obd.commands.THROTTLE_POS_B\n",
    "\n",
    "counter = 0\n",
    "\n",
    "# Create a Pandas DataFrame to store the data\n",
    "df = pd.DataFrame(columns=[\"Time\", \"Coolant Temp\", \"SPEED\",\"Engine Load\",\"Run time\",\"Throttle_pos_b\"])\n",
    "\n",
    "while counter < 10:\n",
    "    # Query the OBD-II interface for the coolant temperature\n",
    "    response1 = connection.query(cmd1)\n",
    "\n",
    "    # Delay for 3 seconds\n",
    "    time.sleep(3)\n",
    "\n",
    "    # Query the OBD-II interface for the Speed\n",
    "    response2 = connection.query(cmd2)\n",
    "    \n",
    "    time.sleep(3)\n",
    "\n",
    "    # Query the OBD-II interface for the Speed\n",
    "    response3 = connection.query(cmd3)\n",
    "    \n",
    "    time.sleep(3)\n",
    "\n",
    "    # Query the OBD-II interface for the Speed\n",
    "    response4 = connection.query(cmd4)\n",
    "    \n",
    "    time.sleep(3)\n",
    "\n",
    "    # Query the OBD-II interface for the Speed\n",
    "    response5 = connection.query(cmd5)\n",
    "\n",
    "    # Get the current time\n",
    "    timestamp = datetime.datetime.now().ctime()\n",
    "\n",
    "    # Store the data in the Pandas DataFrame\n",
    "    df.loc[counter] = [timestamp, str(response1.value), str(response2.value),str(response3.value),str(response4.value)]\n",
    "\n",
    "    # Print the data\n",
    "    print(f\"Counter: {counter}, Time: {timestamp}, Coolant Temp: {response1.value}, Speed: {response2.value}, Engine_Load {response3.value}, Run_time: {response4.value}. Throttle_pos_b: {response5.value}\")\n",
    "\n",
    "    # Delay for 1 second\n",
    "    time.sleep(1)\n",
    "    counter = counter + 1\n",
    "    \n",
    "print(df)\n",
    "df.to_csv('log.csv')"
   ]
  },
  {
   "cell_type": "code",
   "execution_count": null,
   "id": "3a1a43a4-a695-46f3-a8fd-8b8e20e6b502",
   "metadata": {},
   "outputs": [],
   "source": [
    "obd.logger.setLevel(obd.logging.DEBUG)\n",
    "connection = obd.Async(obd_connector)\n",
    "\n",
    "# a callback that prints every new value to the console\n",
    "def new_rpm(r):\n",
    "    print (r.value)\n",
    "\n",
    "connection.watch(obd.commands.COOLANT_TEMP, callback=new_rpm)\n",
    "connection.start()\n",
    "\n",
    "# the callback will now be fired upon receipt of new values\n",
    "\n",
    "time.sleep(10)\n",
    "connection.stop()"
   ]
  },
  {
   "cell_type": "code",
   "execution_count": null,
   "id": "cc789e36-2185-43e2-80a9-27c8c014c966",
   "metadata": {},
   "outputs": [],
   "source": [
    "print(\"hello\")\n",
    "obd.logger.setLevel(obd.logging.DEBUG)\n",
    "connection = obd.OBD(\"/dev/ttyACM0\") # create connection with USB 0\n",
    "print(connection)\n",
    "cmd = obd.commands.COOLANT_TEMP\n",
    "response = connection.query(cmd)\n",
    "print(response.value)\n"
   ]
  },
  {
   "cell_type": "code",
   "execution_count": null,
   "id": "330488be-d370-4518-9f0b-e571aaeac297",
   "metadata": {},
   "outputs": [],
   "source": [
    "connection = obd.Async('/dev/ttyACM0')\n",
    "\n",
    "def new_rpm(responses):\n",
    "#     for r in responses:\n",
    "      print(responses.value)\n",
    "\n",
    "connection.watch(obd.commands.SPEED, callback=new_rpm)\n",
    "connection.watch(obd.commands.COOLANT_TEMP, callback=new_rpm)\n",
    "connection.start()\n",
    "\n",
    "time.sleep(10)\n",
    "connection.stop()"
   ]
  },
  {
   "cell_type": "code",
   "execution_count": null,
   "id": "2b41c54e",
   "metadata": {},
   "outputs": [],
   "source": [
    "connection = obd.Async('/dev/ttyACM0')\n",
    "\n",
    "df = pd.DataFrame(columns=[\"Time\", \"Coolant Temp\", \"Engine Load\",\"Run time\"])\n",
    "\n",
    "def new_rpm(responses):\n",
    "      print(responses.value)\n",
    "\n",
    "def coolant_temp(responses):\n",
    "      print(responses.value)\n",
    "\n",
    "def engine_load(responses):\n",
    "      print(responses.value)\n",
    "\n",
    "def fuel_type(responses):\n",
    "      print(responses.value)\n",
    "\n",
    "connection.watch(obd.commands.SPEED, callback=new_rpm)\n",
    "connection.watch(obd.commands.COOLANT_TEMP, callback=new_rpm)\n",
    "connection.watch(obd.commands.ENGINE_LOAD, callback=new_rpm)\n",
    "connection.watch(obd.commands.FUEL_TYPE, callback=new_rpm)\n",
    "connection.start()\n",
    "\n",
    "time.sleep(10)\n",
    "connection.stop()"
   ]
  }
 ],
 "metadata": {
  "kernelspec": {
   "display_name": "Python 3 (ipykernel)",
   "language": "python",
   "name": "python3"
  },
  "language_info": {
   "codemirror_mode": {
    "name": "ipython",
    "version": 3
   },
   "file_extension": ".py",
   "mimetype": "text/x-python",
   "name": "python",
   "nbconvert_exporter": "python",
   "pygments_lexer": "ipython3",
   "version": "3.11.2"
  }
 },
 "nbformat": 4,
 "nbformat_minor": 5
}
