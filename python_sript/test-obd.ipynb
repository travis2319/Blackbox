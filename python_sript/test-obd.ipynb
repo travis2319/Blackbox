{
 "cells": [
  {
   "cell_type": "markdown",
   "id": "3e81b549",
   "metadata": {},
   "source": [
    "Installing prereauizite modules"
   ]
  },
  {
   "cell_type": "code",
   "execution_count": 6,
   "id": "0e55c841",
   "metadata": {},
   "outputs": [
    {
     "name": "stdout",
     "output_type": "stream",
     "text": [
      "Defaulting to user installation because normal site-packages is not writeable\n",
      "Looking in indexes: https://pypi.org/simple, https://www.piwheels.org/simple\n",
      "Requirement already satisfied: obd in /home/travis/.local/lib/python3.11/site-packages (0.7.2)\n",
      "Requirement already satisfied: numpy in /usr/lib/python3/dist-packages (1.24.2)\n",
      "Requirement already satisfied: pandas in /usr/lib/python3/dist-packages (1.5.3)\n",
      "Requirement already satisfied: matplotlib in /usr/lib/python3/dist-packages (3.6.3)\n",
      "Requirement already satisfied: pyserial==3.* in /usr/lib/python3/dist-packages (from obd) (3.5)\n",
      "Requirement already satisfied: pint==0.20.* in /home/travis/.local/lib/python3.11/site-packages (from obd) (0.20.1)\n",
      "Note: you may need to restart the kernel to use updated packages.\n"
     ]
    }
   ],
   "source": [
    "%pip install obd numpy pandas matplotlib --break-system-packages"
   ]
  },
  {
   "cell_type": "markdown",
   "id": "bdbcc251",
   "metadata": {},
   "source": [
    "Checking versions of modules"
   ]
  },
  {
   "cell_type": "code",
   "execution_count": 5,
   "id": "7fa38cab-1147-49f2-a149-327ae80ed52e",
   "metadata": {},
   "outputs": [
    {
     "name": "stdout",
     "output_type": "stream",
     "text": [
      "pandas version: 1.5.3\n",
      "numpy version: 1.24.2\n",
      "obd version: 0.7.2\n",
      "matplotlib version: 3.6.3\n",
      "Time: Sat May 11 19:58:47 2024\n"
     ]
    }
   ],
   "source": [
    "import pandas as pd\n",
    "import numpy as np\n",
    "import matplotlib\n",
    "import obd\n",
    "import time\n",
    "import datetime\n",
    "\n",
    "# Print library versions\n",
    "print(f\"pandas version: {pd.__version__}\")\n",
    "print(f\"numpy version: {np.__version__}\")\n",
    "print(f\"obd version: {obd.__version__}\")\n",
    "print(f\"matplotlib version: {matplotlib.__version__}\")\n",
    "\n",
    "# Print current time\n",
    "print(f\"Time: {datetime.datetime.now().ctime()}\")"
   ]
  },
  {
   "cell_type": "markdown",
   "id": "ae7c6dd9",
   "metadata": {},
   "source": [
    "Checks ports for debuging "
   ]
  },
  {
   "cell_type": "code",
   "execution_count": 7,
   "id": "81f4cd93-8405-4483-b017-bfff7ad8ee7f",
   "metadata": {},
   "outputs": [
    {
     "name": "stdout",
     "output_type": "stream",
     "text": [
      "[]\n"
     ]
    }
   ],
   "source": [
    "ports = obd.scan_serial()      # return list of valid USB or RF ports\n",
    "print(ports)                   # ['/dev/ttyUSB0', '/dev/ttyUSB1']\n",
    "# connection = obd.OBD() # connect to the first port in the list"
   ]
  },
  {
   "cell_type": "code",
   "execution_count": 21,
   "id": "d49d85fb",
   "metadata": {},
   "outputs": [
    {
     "name": "stdout",
     "output_type": "stream",
     "text": [
      "\u001b[0m\u001b[40;33;01m/dev/tty\u001b[0m    \u001b[40;33;01m/dev/tty19\u001b[0m  \u001b[40;33;01m/dev/tty3\u001b[0m   \u001b[40;33;01m/dev/tty40\u001b[0m  \u001b[40;33;01m/dev/tty51\u001b[0m  \u001b[40;33;01m/dev/tty62\u001b[0m\r\n",
      "\u001b[40;33;01m/dev/tty0\u001b[0m   \u001b[40;33;01m/dev/tty2\u001b[0m   \u001b[40;33;01m/dev/tty30\u001b[0m  \u001b[40;33;01m/dev/tty41\u001b[0m  \u001b[40;33;01m/dev/tty52\u001b[0m  \u001b[40;33;01m/dev/tty63\u001b[0m\r\n",
      "\u001b[40;33;01m/dev/tty1\u001b[0m   \u001b[40;33;01m/dev/tty20\u001b[0m  \u001b[40;33;01m/dev/tty31\u001b[0m  \u001b[40;33;01m/dev/tty42\u001b[0m  \u001b[40;33;01m/dev/tty53\u001b[0m  \u001b[40;33;01m/dev/tty7\u001b[0m\r\n",
      "\u001b[40;33;01m/dev/tty10\u001b[0m  \u001b[40;33;01m/dev/tty21\u001b[0m  \u001b[40;33;01m/dev/tty32\u001b[0m  \u001b[40;33;01m/dev/tty43\u001b[0m  \u001b[40;33;01m/dev/tty54\u001b[0m  \u001b[40;33;01m/dev/tty8\u001b[0m\r\n",
      "\u001b[40;33;01m/dev/tty11\u001b[0m  \u001b[40;33;01m/dev/tty22\u001b[0m  \u001b[40;33;01m/dev/tty33\u001b[0m  \u001b[40;33;01m/dev/tty44\u001b[0m  \u001b[40;33;01m/dev/tty55\u001b[0m  \u001b[40;33;01m/dev/tty9\u001b[0m\r\n",
      "\u001b[40;33;01m/dev/tty12\u001b[0m  \u001b[40;33;01m/dev/tty23\u001b[0m  \u001b[40;33;01m/dev/tty34\u001b[0m  \u001b[40;33;01m/dev/tty45\u001b[0m  \u001b[40;33;01m/dev/tty56\u001b[0m  \u001b[40;33;01m/dev/ttyAMA10\u001b[0m\r\n",
      "\u001b[40;33;01m/dev/tty13\u001b[0m  \u001b[40;33;01m/dev/tty24\u001b[0m  \u001b[40;33;01m/dev/tty35\u001b[0m  \u001b[40;33;01m/dev/tty46\u001b[0m  \u001b[40;33;01m/dev/tty57\u001b[0m  \u001b[40;33;01m/dev/ttyprintk\u001b[0m\r\n",
      "\u001b[40;33;01m/dev/tty14\u001b[0m  \u001b[40;33;01m/dev/tty25\u001b[0m  \u001b[40;33;01m/dev/tty36\u001b[0m  \u001b[40;33;01m/dev/tty47\u001b[0m  \u001b[40;33;01m/dev/tty58\u001b[0m\r\n",
      "\u001b[40;33;01m/dev/tty15\u001b[0m  \u001b[40;33;01m/dev/tty26\u001b[0m  \u001b[40;33;01m/dev/tty37\u001b[0m  \u001b[40;33;01m/dev/tty48\u001b[0m  \u001b[40;33;01m/dev/tty59\u001b[0m\r\n",
      "\u001b[40;33;01m/dev/tty16\u001b[0m  \u001b[40;33;01m/dev/tty27\u001b[0m  \u001b[40;33;01m/dev/tty38\u001b[0m  \u001b[40;33;01m/dev/tty49\u001b[0m  \u001b[40;33;01m/dev/tty6\u001b[0m\r\n",
      "\u001b[40;33;01m/dev/tty17\u001b[0m  \u001b[40;33;01m/dev/tty28\u001b[0m  \u001b[40;33;01m/dev/tty39\u001b[0m  \u001b[40;33;01m/dev/tty5\u001b[0m   \u001b[40;33;01m/dev/tty60\u001b[0m\r\n",
      "\u001b[40;33;01m/dev/tty18\u001b[0m  \u001b[40;33;01m/dev/tty29\u001b[0m  \u001b[40;33;01m/dev/tty4\u001b[0m   \u001b[40;33;01m/dev/tty50\u001b[0m  \u001b[40;33;01m/dev/tty61\u001b[0m\r\n"
     ]
    }
   ],
   "source": [
    "%ls /dev/tty*"
   ]
  },
  {
   "cell_type": "code",
   "execution_count": null,
   "id": "8bd8c3b1",
   "metadata": {},
   "outputs": [],
   "source": [
    "obd_connector=\"/dev/ttyACM0\""
   ]
  },
  {
   "cell_type": "code",
   "execution_count": null,
   "id": "62363180-7650-4b08-b069-73a99e722ab9",
   "metadata": {},
   "outputs": [],
   "source": [
    "# connection = obd.OBD(\"/dev/ttyACM0\") # create connection with USB 0\n",
    "# print(connection)\n",
    "# cmd = obd.commands.COOLANT_TEMP\n",
    "# response = connection.query(cmd)\n",
    "# print(response.value)\n",
    "\n",
    "#xxxxxxxxxxxxxxxxxxxxxxxxxxxxxxxxxxxxxxxxxxxxxxxxxxxxxxxxxxxxxxxxxxxx\n",
    "# connection = obd.OBD(\"/dev/ttyACM0\")  # create connection with USB 0\n",
    "\n",
    "# cmd = obd.commands.COOLANT_TEMP\n",
    "\n",
    "# while True:\n",
    "#     response = connection.query(cmd)\n",
    "#     print(response.value)\n",
    "#     time.sleep(1)  # delay for 1 second"
   ]
  },
  {
   "cell_type": "markdown",
   "id": "91ccb1b5",
   "metadata": {},
   "source": [
    "Below code request's only one query and store it in csv using pandas"
   ]
  },
  {
   "cell_type": "code",
   "execution_count": null,
   "id": "d9e3fe7a-fe54-40ac-a93f-22714b1ff8bd",
   "metadata": {},
   "outputs": [],
   "source": [
    "# Create a connection with the OBD-II interface\n",
    "connection = obd.OBD(\"/dev/ttyACM0\")\n",
    "\n",
    "# Define the command to read the coolant temperature\n",
    "cmd = obd.commands.COOLANT_TEMP\n",
    "\n",
    "# Create a Pandas DataFrame to store the data\n",
    "df = pd.DataFrame(columns=[\"Time\", \"Coolant Temp\"])\n",
    "\n",
    "while True:\n",
    "    # Query the OBD-II interface for the coolant temperature\n",
    "    response = connection.query(cmd)\n",
    "    \n",
    "    # Get the current time\n",
    "    timestamp = datetime.datetime.now().ctime()\n",
    "    \n",
    "    # Store the data in the Pandas DataFrame\n",
    "    df.loc[len(df)] = [timestamp, response.value]\n",
    "    \n",
    "    # Print the data\n",
    "    print(f\"Time: {timestamp}, Coolant Temp: {response.value}\")\n",
    "    \n",
    "    # Delay for 1 second\n",
    "    time.sleep(1)"
   ]
  },
  {
   "cell_type": "code",
   "execution_count": 2,
   "id": "3a1a43a4-a695-46f3-a8fd-8b8e20e6b502",
   "metadata": {},
   "outputs": [
    {
     "name": "stderr",
     "output_type": "stream",
     "text": [
      "[obd.obd] ======================= python-OBD (v0.7.2) =======================\n",
      "[obd.obd] Explicit port defined\n",
      "[obd.elm327] Initializing ELM327: PORT=/dev/ttyACM0 BAUD=auto PROTOCOL=auto\n",
      "[obd.elm327] could not open port '/dev/ttyACM0': FileNotFoundError(2, 'The system cannot find the path specified.', None, 3)\n",
      "[obd.obd] Closing connection\n",
      "[obd.obd] Cannot load commands: No connection to car\n",
      "[obd.obd] ===================================================================\n",
      "[obd.obd] 'b'010C': Engine RPM' is not supported\n",
      "[obd.asynchronous] Async thread not started because no connection was made\n"
     ]
    }
   ],
   "source": [
    "obd.logger.setLevel(obd.logging.DEBUG)\n",
    "connection = obd.Async(\"/dev/ttyACM0\")\n",
    "\n",
    "# a callback that prints every new value to the console\n",
    "def new_rpm(r):\n",
    "    print (r.value)\n",
    "\n",
    "connection.watch(obd.commands.RPM, callback=new_rpm,force=False)\n",
    "connection.start()\n",
    "\n",
    "# the callback will now be fired upon receipt of new values\n",
    "\n",
    "time.sleep(60)\n",
    "connection.stop()"
   ]
  },
  {
   "cell_type": "code",
   "execution_count": null,
   "id": "cc789e36-2185-43e2-80a9-27c8c014c966",
   "metadata": {},
   "outputs": [],
   "source": [
    "print(\"hello\")\n",
    "obd.logger.setLevel(obd.logging.DEBUG)\n",
    "connection = obd.OBD(\"/dev/ttyACM0\") # create connection with USB 0\n",
    "print(connection)\n",
    "cmd = obd.commands.COOLANT_TEMP\n",
    "response = connection.query(cmd)\n",
    "print(response.value)\n"
   ]
  },
  {
   "cell_type": "code",
   "execution_count": 4,
   "id": "330488be-d370-4518-9f0b-e571aaeac297",
   "metadata": {},
   "outputs": [
    {
     "name": "stderr",
     "output_type": "stream",
     "text": [
      "[obd.elm327] [Errno 2] could not open port /dev/ttyACM0: [Errno 2] No such file or directory: '/dev/ttyACM0'\n",
      "[obd.obd] Cannot load commands: No connection to car\n",
      "[obd.obd] 'b'010D': Vehicle Speed' is not supported\n",
      "[obd.obd] 'b'015E': Engine fuel rate' is not supported\n"
     ]
    }
   ],
   "source": [
    "connection = obd.Async('/dev/ttyACM0')\n",
    "\n",
    "def callback(responses):\n",
    "    for r in responses:\n",
    "        print(r.value)\n",
    "\n",
    "connection.watch(obd.commands.SPEED, callback=callback)\n",
    "connection.watch(obd.commands.FUEL_RATE, callback=callback)\n",
    "connection.start()"
   ]
  }
 ],
 "metadata": {
  "kernelspec": {
   "display_name": "Python 3 (ipykernel)",
   "language": "python",
   "name": "python3"
  },
  "language_info": {
   "codemirror_mode": {
    "name": "ipython",
    "version": 3
   },
   "file_extension": ".py",
   "mimetype": "text/x-python",
   "name": "python",
   "nbconvert_exporter": "python",
   "pygments_lexer": "ipython3",
   "version": "3.11.2"
  }
 },
 "nbformat": 4,
 "nbformat_minor": 5
}
