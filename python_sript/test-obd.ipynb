{
 "cells": [
  {
   "cell_type": "markdown",
   "id": "3e81b549",
   "metadata": {},
   "source": [
    "Installing prereauizite modules"
   ]
  },
  {
   "cell_type": "code",
   "execution_count": null,
   "id": "0e55c841",
   "metadata": {},
   "outputs": [],
   "source": [
    "%pip install obd numpy pandas matplotlib --break-system-packages"
   ]
  },
  {
   "cell_type": "markdown",
   "id": "bdbcc251",
   "metadata": {},
   "source": [
    "Checking versions of modules"
   ]
  },
  {
   "cell_type": "code",
   "execution_count": null,
   "id": "7fa38cab-1147-49f2-a149-327ae80ed52e",
   "metadata": {},
   "outputs": [],
   "source": [
    "import pandas as pd\n",
    "import numpy as np\n",
    "import matplotlib\n",
    "import obd\n",
    "import time\n",
    "import datetime\n",
    "\n",
    "# Print library versions\n",
    "print(f\"pandas version: {pd.__version__}\")\n",
    "print(f\"numpy version: {np.__version__}\")\n",
    "print(f\"obd version: {obd.__version__}\")\n",
    "print(f\"matplotlib version: {matplotlib.__version__}\")\n",
    "\n",
    "# Print current time\n",
    "print(time.time())\n",
    "print(f\"Time: {datetime.datetime.now().ctime()}\")"
   ]
  },
  {
   "cell_type": "code",
   "execution_count": null,
   "id": "78570cbc",
   "metadata": {},
   "outputs": [],
   "source": [
    "from obd import OBDStatus\n",
    "\n",
    "# no connection is made\n",
    "OBDStatus.NOT_CONNECTED # \"Not Connected\"\n",
    "\n",
    "# successful communication with the ELM327 adapter\n",
    "OBDStatus.ELM_CONNECTED # \"ELM Connected\"\n",
    "\n",
    "# successful communication with the ELM327 adapter,\n",
    "# OBD port connected to the car, ignition off\n",
    "# (not available with argument \"check_voltage=False\")\n",
    "OBDStatus.OBD_CONNECTED # \"OBD Connected\"\n",
    "\n",
    "# successful communication with the ELM327 and the\n",
    "# vehicle; ignition on\n",
    "OBDStatus.CAR_CONNECTED # \"Car Connected\""
   ]
  },
  {
   "cell_type": "markdown",
   "id": "ae7c6dd9",
   "metadata": {},
   "source": [
    "Checks ports for debuging "
   ]
  },
  {
   "cell_type": "code",
   "execution_count": null,
   "id": "81f4cd93-8405-4483-b017-bfff7ad8ee7f",
   "metadata": {},
   "outputs": [],
   "source": [
    "ports = obd.scan_serial()      # return list of valid USB or RF ports\n",
    "print(ports)                   # ['/dev/ttyUSB0', '/dev/ttyUSB1']\n",
    "# connection = obd.OBD() # connect to the first port in the list"
   ]
  },
  {
   "cell_type": "code",
   "execution_count": null,
   "id": "d49d85fb",
   "metadata": {},
   "outputs": [],
   "source": [
    "%ls /dev/ttyACM0"
   ]
  },
  {
   "cell_type": "code",
   "execution_count": null,
   "id": "8bd8c3b1",
   "metadata": {},
   "outputs": [],
   "source": [
    "obd_connector=\"/dev/ttyACM0\"\n",
    "print(obd_connector)"
   ]
  },
  {
   "cell_type": "code",
   "execution_count": null,
   "id": "62363180-7650-4b08-b069-73a99e722ab9",
   "metadata": {},
   "outputs": [],
   "source": [
    "# connection = obd.OBD(obd_connector) # create connection with USB 0\n",
    "# print(connection)\n",
    "# cmd = obd.commands.COOLANT_TEMP\n",
    "# response = connection.query(cmd)\n",
    "# print(response.value)\n",
    "\n",
    "#xxxxxxxxxxxxxxxxxxxxxxxxxxxxxxxxxxxxxxxxxxxxxxxxxxxxxxxxxxxxxxxxxxxx\n",
    "obd.logger.setLevel(obd.logging.DEBUG)\n",
    "connection = obd.OBD(obd_connector)  # create connection with USB 0\n",
    "counter=0\n",
    "\n",
    "while counter <10:\n",
    "    cmd1 = obd.commands.COOLANT_TEMP\n",
    "    response = connection.query(cmd1)\n",
    "    print(response.value)\n",
    "    time.sleep(3)  # delay for 1 second\n",
    "    cmd2 = obd.commands.SPEED\n",
    "    response = connection.query(cmd2)\n",
    "    print(response.value)\n",
    "    time.sleep(3)  # delay for 1 second\n",
    "    counter=counter+1"
   ]
  },
  {
   "cell_type": "markdown",
   "id": "91ccb1b5",
   "metadata": {},
   "source": [
    "Below code request's only one query and store it in csv using pandas"
   ]
  },
  {
   "cell_type": "code",
   "execution_count": null,
   "id": "d9e3fe7a-fe54-40ac-a93f-22714b1ff8bd",
   "metadata": {},
   "outputs": [],
   "source": [
    "# Create a connection with the OBD-II interface\n",
    "connection = obd.OBD(obd_connector)\n",
    "\n",
    "# Define the command to read the coolant temperature\n",
    "cmd1 = obd.commands.COOLANT_TEMP\n",
    "cmd2 = obd.commands.SPEED\n",
    "counter=0\n",
    "# Create a Pandas DataFrame to store the data\n",
    "df = pd.DataFrame(columns=[\"Time\", \"Coolant Temp\",\"SPEED\"])\n",
    "\n",
    "while counter <10:\n",
    "    # Query the OBD-II interface for the coolant temperature\n",
    "    response1 = connection.query(cmd1)\n",
    "    \n",
    "    # Delay for 3 seconds\n",
    "    time.sleep(3)\n",
    "    \n",
    "    # Query the OBD-II interface for the Speed\n",
    "    response2 = connection.query(cmd2)\n",
    "    \n",
    "    # Store the data in the Pandas DataFrame\n",
    "    # df.loc[len(df)] = [timestamp, response1.value,response2.value]\n",
    "\n",
    "    # Get the current time\n",
    "    timestamp = datetime.datetime.now().ctime()\n",
    "    # Print the data\n",
    "    print(f\"Counter: {counter}, Time: {timestamp}, Coolant Temp: {response1.value}, Speed: {response2.value}\")\n",
    "    \n",
    "    # Delay for 1 second\n",
    "    time.sleep(1)\n",
    "    counter=counter+1"
   ]
  },
  {
   "cell_type": "code",
   "execution_count": null,
   "id": "2f8a7a16",
   "metadata": {},
   "outputs": [],
   "source": [
    "import pandas as pd\n",
    "\n",
    "# Create a connection with the OBD-II interface\n",
    "connection = obd.OBD(obd_connector)\n",
    "\n",
    "# Define the command to read the coolant temperature\n",
    "cmd1 = obd.commands.COOLANT_TEMP\n",
    "cmd2 = obd.commands.SPEED\n",
    "cmd3= obd.commands.ENGINE_LOAD\n",
    "cmd4 = obd.commands.RUN_TIME\n",
    "cmd5 = obd.commands.THROTTLE_POS_B\n",
    "\n",
    "counter = 0\n",
    "\n",
    "# Create a Pandas DataFrame to store the data\n",
    "df = pd.DataFrame(columns=[\"Time\", \"Coolant Temp\", \"SPEED\",\"Engine Load\",\"Run time\",\"Throttle_pos_b\"])\n",
    "\n",
    "while counter < 10:\n",
    "    # Query the OBD-II interface for the coolant temperature\n",
    "    response1 = connection.query(cmd1)\n",
    "\n",
    "    # Delay for 3 seconds\n",
    "    time.sleep(3)\n",
    "\n",
    "    # Query the OBD-II interface for the Speed\n",
    "    response2 = connection.query(cmd2)\n",
    "    \n",
    "    time.sleep(3)\n",
    "\n",
    "    # Query the OBD-II interface for the Speed\n",
    "    response3 = connection.query(cmd3)\n",
    "    \n",
    "    time.sleep(3)\n",
    "\n",
    "    # Query the OBD-II interface for the Speed\n",
    "    response4 = connection.query(cmd4)\n",
    "    \n",
    "    time.sleep(3)\n",
    "\n",
    "    # Query the OBD-II interface for the Speed\n",
    "    response5 = connection.query(cmd5)\n",
    "\n",
    "    # Get the current time\n",
    "    timestamp = datetime.datetime.now().ctime()\n",
    "\n",
    "    # Store the data in the Pandas DataFrame\n",
    "    df.loc[counter] = [timestamp, str(response1.value), str(response2.value),str(response3.value),str(response4.value),str(response5.value)]\n",
    "\n",
    "    # Print the data\n",
    "    print(f\"Counter: {counter}, Time: {timestamp}, Coolant Temp: {response1.value}, Speed: {response2.value}, Engine_Load {response3.value}, Run_time: {response4.value}. Throttle_pos_b: {response5.value}\")\n",
    "\n",
    "    # Delay for 1 second\n",
    "    time.sleep(1)\n",
    "    counter = counter + 1\n",
    "    \n",
    "print(df)\n",
    "df.to_csv('log.csv')"
   ]
  },
  {
   "cell_type": "code",
   "execution_count": null,
   "id": "3a1a43a4-a695-46f3-a8fd-8b8e20e6b502",
   "metadata": {},
   "outputs": [],
   "source": [
    "obd.logger.setLevel(obd.logging.DEBUG)\n",
    "connection = obd.Async(obd_connector)\n",
    "\n",
    "# a callback that prints every new value to the console\n",
    "def new_rpm(r):\n",
    "    print (r.value)\n",
    "\n",
    "connection.watch(obd.commands.COOLANT_TEMP, callback=new_rpm)\n",
    "connection.start()\n",
    "\n",
    "# the callback will now be fired upon receipt of new values\n",
    "\n",
    "time.sleep(10)\n",
    "connection.stop()"
   ]
  },
  {
   "cell_type": "code",
   "execution_count": null,
   "id": "cc789e36-2185-43e2-80a9-27c8c014c966",
   "metadata": {},
   "outputs": [],
   "source": [
    "print(\"hello\")\n",
    "obd.logger.setLevel(obd.logging.DEBUG)\n",
    "connection = obd.OBD(\"/dev/ttyACM0\") # create connection with USB 0\n",
    "print(connection)\n",
    "cmd = obd.commands.COOLANT_TEMP\n",
    "response = connection.query(cmd)\n",
    "print(response.value)\n"
   ]
  },
  {
   "cell_type": "code",
   "execution_count": null,
   "id": "330488be-d370-4518-9f0b-e571aaeac297",
   "metadata": {},
   "outputs": [],
   "source": [
    "connection = obd.Async('/dev/ttyACM0')\n",
    "\n",
    "def new_rpm(responses):\n",
    "#     for r in responses:\n",
    "      print(responses.value)\n",
    "\n",
    "connection.watch(obd.commands.SPEED, callback=new_rpm)\n",
    "connection.watch(obd.commands.COOLANT_TEMP, callback=new_rpm)\n",
    "connection.start()\n",
    "\n",
    "time.sleep(10)\n",
    "connection.stop()"
   ]
  },
  {
   "cell_type": "code",
   "execution_count": null,
   "id": "2b41c54e",
   "metadata": {},
   "outputs": [],
   "source": [
    "connection = obd.Async('/dev/ttyACM0')\n",
    "\n",
    "df = pd.DataFrame(columns=[\"Time\", \"Coolant Temp\", \"Engine Load\",\"Throttle_pos_b\"])\n",
    "\n",
    "def new_rpm(responses):\n",
    "      print(responses.value)\n",
    "\n",
    "def coolant_temp(responses):\n",
    "      print(responses.value)\n",
    "\n",
    "def engine_load(responses):\n",
    "      print(responses.value)\n",
    "\n",
    "def fuel_type(responses):\n",
    "      print(responses.value)\n",
    "\n",
    "connection.watch(obd.commands.SPEED, callback=new_rpm)\n",
    "connection.watch(obd.commands.COOLANT_TEMP, callback=coolant_temp)\n",
    "connection.watch(obd.commands.ENGINE_LOAD, callback=engine_load)\n",
    "connection.watch(obd.commands.THROTTLE_POS_B, callback=fuel_type)\n",
    "connection.start()\n",
    "\n",
    "time.sleep(10)\n",
    "connection.stop()"
   ]
  },
  {
   "cell_type": "code",
   "execution_count": null,
   "id": "fed92445-9444-4fb5-8ebc-e43dc68e6a0e",
   "metadata": {},
   "outputs": [],
   "source": [
    "connection = obd.Async('/dev/ttyACM0')\n",
    "\n",
    "df = pd.DataFrame(columns=[\"Start_Time\",\"SPEED\", \"Coolant Temp\", \"Engine Load\",\"Throttle_pos_b\",\"End_Time\"])\n",
    "\n",
    "def new_rpm(responses):\n",
    "    start_timestamp = time.time()\n",
    "    speed = responses.value\n",
    "    df.loc[len(df)] = [timestamp,speed, None, None, None]\n",
    "\n",
    "def coolant_temp(responses):\n",
    "    # timestamp = time.time()\n",
    "    temp = responses.value\n",
    "    df.loc[len(df) - 1, \"Coolant Temp\"] = temp\n",
    "\n",
    "def engine_load(responses):\n",
    "    # timestamp = time.time()\n",
    "    load = responses.value\n",
    "    df.loc[len(df) - 1, \"Engine Load\"] = load\n",
    "\n",
    "def throttle_pos(responses):\n",
    "    end_timestamp = time.time()\n",
    "    throttle = responses.value\n",
    "    df.loc[len(df) - 1, \"Throttle_pos_b\"] = throttle\n",
    "    df.loc[len(df) - 1, \"End_Time\"] = end_timestamp\n",
    "\n",
    "connection.watch(obd.commands.SPEED, callback=new_rpm)\n",
    "connection.watch(obd.commands.COOLANT_TEMP, callback=coolant_temp)\n",
    "connection.watch(obd.commands.ENGINE_LOAD, callback=engine_load)\n",
    "connection.watch(obd.commands.THROTTLE_POS_B, callback=fuel_type)\n",
    "connection.start()\n",
    "\n",
    "time.sleep(10)\n",
    "connection.stop()\n",
    "\n",
    "print(df)\n",
    "df.to_csv('async_log.csv',mode='a') "
   ]
  },
  {
   "cell_type": "code",
   "execution_count": null,
   "id": "6ffaed5b",
   "metadata": {},
   "outputs": [],
   "source": [
    "%pip install time string serial pynmea2 --break-system-packages"
   ]
  },
  {
   "cell_type": "code",
   "execution_count": 6,
   "id": "b70278de",
   "metadata": {},
   "outputs": [
    {
     "name": "stdout",
     "output_type": "stream",
     "text": [
      "serial version: 3.5\n",
      "pynmea2 version: 1.19.0\n"
     ]
    }
   ],
   "source": [
    "import serial\n",
    "import time\n",
    "import string\n",
    "import pynmea2\n",
    "\n",
    "print(f\"serial version: {serial.__version__}\")\n",
    "print(f\"pynmea2 version: {pynmea2.__version__}\")"
   ]
  },
  {
   "cell_type": "code",
   "execution_count": 7,
   "id": "bc4dbfef",
   "metadata": {},
   "outputs": [
    {
     "name": "stdout",
     "output_type": "stream",
     "text": [
      "working...\n"
     ]
    },
    {
     "ename": "KeyboardInterrupt",
     "evalue": "",
     "output_type": "error",
     "traceback": [
      "\u001b[0;31m---------------------------------------------------------------------------\u001b[0m",
      "\u001b[0;31mKeyboardInterrupt\u001b[0m                         Traceback (most recent call last)",
      "Cell \u001b[0;32mIn [7], line 10\u001b[0m\n\u001b[1;32m      8\u001b[0m ser\u001b[38;5;241m=\u001b[39mserial\u001b[38;5;241m.\u001b[39mSerial(port, baudrate\u001b[38;5;241m=\u001b[39m\u001b[38;5;241m9600\u001b[39m, timeout\u001b[38;5;241m=\u001b[39m\u001b[38;5;241m0.5\u001b[39m)\n\u001b[1;32m      9\u001b[0m dataout \u001b[38;5;241m=\u001b[39m pynmea2\u001b[38;5;241m.\u001b[39mNMEAStreamReader()\n\u001b[0;32m---> 10\u001b[0m newdata\u001b[38;5;241m=\u001b[39m\u001b[43mser\u001b[49m\u001b[38;5;241;43m.\u001b[39;49m\u001b[43mreadline\u001b[49m\u001b[43m(\u001b[49m\u001b[43m)\u001b[49m\n\u001b[1;32m     12\u001b[0m \u001b[38;5;28;01mif\u001b[39;00m newdata[\u001b[38;5;241m0\u001b[39m:\u001b[38;5;241m6\u001b[39m] \u001b[38;5;241m==\u001b[39m \u001b[38;5;124m\"\u001b[39m\u001b[38;5;124m$GPRMC\u001b[39m\u001b[38;5;124m\"\u001b[39m:\n\u001b[1;32m     13\u001b[0m     newmsg\u001b[38;5;241m=\u001b[39mpynmea2\u001b[38;5;241m.\u001b[39mparse(newdata)\n",
      "File \u001b[0;32m/usr/lib/python3/dist-packages/serial/serialposix.py:565\u001b[0m, in \u001b[0;36mSerial.read\u001b[0;34m(self, size)\u001b[0m\n\u001b[1;32m    563\u001b[0m \u001b[38;5;28;01mwhile\u001b[39;00m \u001b[38;5;28mlen\u001b[39m(read) \u001b[38;5;241m<\u001b[39m size:\n\u001b[1;32m    564\u001b[0m     \u001b[38;5;28;01mtry\u001b[39;00m:\n\u001b[0;32m--> 565\u001b[0m         ready, _, _ \u001b[38;5;241m=\u001b[39m select\u001b[38;5;241m.\u001b[39mselect([\u001b[38;5;28mself\u001b[39m\u001b[38;5;241m.\u001b[39mfd, \u001b[38;5;28mself\u001b[39m\u001b[38;5;241m.\u001b[39mpipe_abort_read_r], [], [], timeout\u001b[38;5;241m.\u001b[39mtime_left())\n\u001b[1;32m    566\u001b[0m         \u001b[38;5;28;01mif\u001b[39;00m \u001b[38;5;28mself\u001b[39m\u001b[38;5;241m.\u001b[39mpipe_abort_read_r \u001b[38;5;129;01min\u001b[39;00m ready:\n\u001b[1;32m    567\u001b[0m             os\u001b[38;5;241m.\u001b[39mread(\u001b[38;5;28mself\u001b[39m\u001b[38;5;241m.\u001b[39mpipe_abort_read_r, \u001b[38;5;241m1000\u001b[39m)\n",
      "\u001b[0;31mKeyboardInterrupt\u001b[0m: "
     ]
    }
   ],
   "source": [
    "import serial\n",
    "import time\n",
    "import string\n",
    "import pynmea2\n",
    "print(\"working...\")\n",
    "while True:\n",
    "    port=\"/dev/ttyAMA0\"\n",
    "    ser=serial.Serial(port, baudrate=9600, timeout=0.5)\n",
    "    dataout = pynmea2.NMEAStreamReader()\n",
    "    newdata=ser.readline()\n",
    "\n",
    "    if newdata[0:6] == \"$GPRMC\":\n",
    "        newmsg=pynmea2.parse(newdata)\n",
    "        lat=newmsg.latitude\n",
    "        lng=newmsg.longitude\n",
    "        gps = \"Latitude=\" + str(lat) + \"and Longitude=\" + str(lng)\n",
    "        print(gps)"
   ]
  },
  {
   "cell_type": "code",
   "execution_count": 11,
   "id": "a4b7cc0d",
   "metadata": {},
   "outputs": [
    {
     "name": "stdout",
     "output_type": "stream",
     "text": [
      "Working...\n",
      "Latitude=15.2625795 and Longitude=73.978137\n",
      "Latitude=15.262579 and Longitude=73.97813383333333\n",
      "Latitude=15.262579666666667 and Longitude=73.97813233333333\n",
      "Latitude=15.262581666666666 and Longitude=73.9781375\n",
      "Latitude=15.262582166666666 and Longitude=73.978138\n",
      "Latitude=15.262580833333333 and Longitude=73.978134\n",
      "Latitude=15.26258 and Longitude=73.97813183333334\n",
      "Latitude=15.262582166666666 and Longitude=73.978136\n",
      "Latitude=15.262580333333334 and Longitude=73.9781285\n",
      "Latitude=15.262578333333334 and Longitude=73.97812083333334\n",
      "Latitude=15.262573333333334 and Longitude=73.9781125\n",
      "Latitude=15.262568333333334 and Longitude=73.97810116666666\n",
      "Latitude=15.262565166666667 and Longitude=73.97809416666666\n",
      "Latitude=15.262559166666666 and Longitude=73.97807633333333\n",
      "Latitude=15.262553166666667 and Longitude=73.97806016666667\n",
      "Latitude=15.262544666666667 and Longitude=73.9780335\n",
      "Latitude=15.262535833333333 and Longitude=73.97800283333333\n",
      "Latitude=15.2625265 and Longitude=73.97798033333333\n",
      "Latitude=15.262518833333333 and Longitude=73.97795666666667\n",
      "Latitude=15.262511666666667 and Longitude=73.97792866666667\n",
      "Latitude=15.262508333333333 and Longitude=73.9779185\n",
      "Latitude=15.262504666666667 and Longitude=73.97790583333334\n",
      "Latitude=15.262500166666667 and Longitude=73.9778965\n",
      "Latitude=15.262500333333334 and Longitude=73.97789733333333\n",
      "Latitude=15.2625055 and Longitude=73.97791266666667\n",
      "Latitude=15.262511666666667 and Longitude=73.97793366666667\n",
      "Latitude=15.2625175 and Longitude=73.97796216666667\n",
      "Latitude=15.2625245 and Longitude=73.97799383333333\n",
      "Latitude=15.262533166666667 and Longitude=73.97803133333333\n",
      "Latitude=15.2625355 and Longitude=73.97804366666666\n",
      "Latitude=15.262537 and Longitude=73.978059\n",
      "Latitude=15.2625385 and Longitude=73.97807133333333\n",
      "Latitude=15.262539 and Longitude=73.97807666666667\n",
      "Latitude=15.262541 and Longitude=73.9780825\n",
      "Latitude=15.2625435 and Longitude=73.978094\n",
      "Latitude=15.262545833333334 and Longitude=73.97810416666667\n"
     ]
    },
    {
     "ename": "KeyboardInterrupt",
     "evalue": "",
     "output_type": "error",
     "traceback": [
      "\u001b[0;31m---------------------------------------------------------------------------\u001b[0m",
      "\u001b[0;31mKeyboardInterrupt\u001b[0m                         Traceback (most recent call last)",
      "Cell \u001b[0;32mIn [11], line 12\u001b[0m\n\u001b[1;32m     10\u001b[0m dataout \u001b[38;5;241m=\u001b[39m pynmea2\u001b[38;5;241m.\u001b[39mNMEAStreamReader()\n\u001b[1;32m     11\u001b[0m \u001b[38;5;28;01mwhile\u001b[39;00m \u001b[38;5;28;01mTrue\u001b[39;00m:\n\u001b[0;32m---> 12\u001b[0m     newdata \u001b[38;5;241m=\u001b[39m \u001b[43mser\u001b[49m\u001b[38;5;241;43m.\u001b[39;49m\u001b[43mreadline\u001b[49m\u001b[43m(\u001b[49m\u001b[43m)\u001b[49m\u001b[38;5;241m.\u001b[39mdecode()\u001b[38;5;241m.\u001b[39mstrip()\n\u001b[1;32m     13\u001b[0m     \u001b[38;5;28;01mif\u001b[39;00m newdata \u001b[38;5;129;01mand\u001b[39;00m newdata[\u001b[38;5;241m0\u001b[39m:\u001b[38;5;241m6\u001b[39m] \u001b[38;5;241m==\u001b[39m \u001b[38;5;124m\"\u001b[39m\u001b[38;5;124m$GPRMC\u001b[39m\u001b[38;5;124m\"\u001b[39m:\n\u001b[1;32m     14\u001b[0m         \u001b[38;5;28;01mtry\u001b[39;00m:\n",
      "File \u001b[0;32m/usr/lib/python3/dist-packages/serial/serialposix.py:565\u001b[0m, in \u001b[0;36mSerial.read\u001b[0;34m(self, size)\u001b[0m\n\u001b[1;32m    563\u001b[0m \u001b[38;5;28;01mwhile\u001b[39;00m \u001b[38;5;28mlen\u001b[39m(read) \u001b[38;5;241m<\u001b[39m size:\n\u001b[1;32m    564\u001b[0m     \u001b[38;5;28;01mtry\u001b[39;00m:\n\u001b[0;32m--> 565\u001b[0m         ready, _, _ \u001b[38;5;241m=\u001b[39m select\u001b[38;5;241m.\u001b[39mselect([\u001b[38;5;28mself\u001b[39m\u001b[38;5;241m.\u001b[39mfd, \u001b[38;5;28mself\u001b[39m\u001b[38;5;241m.\u001b[39mpipe_abort_read_r], [], [], timeout\u001b[38;5;241m.\u001b[39mtime_left())\n\u001b[1;32m    566\u001b[0m         \u001b[38;5;28;01mif\u001b[39;00m \u001b[38;5;28mself\u001b[39m\u001b[38;5;241m.\u001b[39mpipe_abort_read_r \u001b[38;5;129;01min\u001b[39;00m ready:\n\u001b[1;32m    567\u001b[0m             os\u001b[38;5;241m.\u001b[39mread(\u001b[38;5;28mself\u001b[39m\u001b[38;5;241m.\u001b[39mpipe_abort_read_r, \u001b[38;5;241m1000\u001b[39m)\n",
      "\u001b[0;31mKeyboardInterrupt\u001b[0m: "
     ]
    }
   ],
   "source": [
    "import serial\n",
    "import pynmea2\n",
    "\n",
    "print(\"Working...\")\n",
    "\n",
    "port = \"/dev/ttyAMA0\"\n",
    "\n",
    "try:\n",
    "    with serial.Serial(port, baudrate=9600, timeout=0.5) as ser:\n",
    "        dataout = pynmea2.NMEAStreamReader()\n",
    "        while True:\n",
    "            newdata = ser.readline().decode().strip()\n",
    "            if newdata and newdata[0:6] == \"$GPRMC\":\n",
    "                try:\n",
    "                    newmsg = pynmea2.parse(newdata)\n",
    "                    lat = newmsg.latitude\n",
    "                    lng = newmsg.longitude\n",
    "                    gps = f\"Latitude={lat} and Longitude={lng}\"\n",
    "                    print(gps)\n",
    "                except pynmea2.ParseError as e:\n",
    "                    print(f\"Error parsing NMEA data: {e}\")\n",
    "except serial.SerialException as e:\n",
    "    print(f\"Error opening serial port: {e}\")"
   ]
  },
  {
   "cell_type": "code",
   "execution_count": 10,
   "id": "d8d551af",
   "metadata": {},
   "outputs": [
    {
     "name": "stdout",
     "output_type": "stream",
     "text": [
      "$GPRMC,175917.00,A,1515.75323,N,07358.69476,E,0.984,,270524,,,A*7C\r",
      "\r\n",
      "$GPVTG,,T,,M,0.984,N,1.822,K,A*2F\r",
      "\r\n",
      "$GPGGA,175917.00,1515.75323,N,07358.69476,E,1,05,1.35,4.3,M,-77.6,M,,*7D\r",
      "\r\n",
      "$GPGSA,A,3,16,26,28,27,04,,,,,,,,2.04,1.35,1.53*0C\r",
      "\r\n",
      "$GPGSV,4,1,14,01,40,055,37,02,25,229,12,03,55,325,,04,26,325,17*72\r",
      "\r\n",
      "$GPGSV,4,2,14,07,06,244,,08,08,182,,16,62,136,22,21,23,214,16*77\r",
      "\r\n",
      "$GPGSV,4,3,14,26,49,057,39,27,13,151,29,28,06,043,25,31,30,026,*7A\r",
      "\r\n",
      "$GPGSV,4,4,14,32,06,094,,50,10,095,33*7E\r",
      "\r\n",
      "$GPGLL,1515.75323,N,07358.69476,E,175917.00,A,A*66\r",
      "\r\n",
      "$GPRMC,175918.00,A,1515.75322,N,07358.69504,E,1.004,113.10,270524,,,A*6A\r",
      "\r\n",
      "$GPVTG,113.10,T,,M,1.004,N,1.859,K,A*3F\r",
      "\r\n",
      "$GPGGA,175918.00,1515.75322,N,07358.69504,E,1,05,1.35,4.2,M,-77.6,M,,*76\r",
      "\r\n",
      "$GPGSA,A,3,16,26,28,27,04,,,,,,,,2.04,1.35,1.53*0C\r",
      "\r\n",
      "$GPGSV,4,1,14,01,40,055,38,02,25,229,14,03,55,325,,04,26,325,18*74\r",
      "\r\n",
      "$GPGSV,4,2,14,07,06,244,,08,08,182,,16,62,136,22,21,23,214,17*76\r",
      "\r\n",
      "$GPGSV,4,3,14,26,49,057,39,27,13,151,29,28,06,043,25,31,30,026,*7A\r",
      "\r\n",
      "$GPGSV,4,4,14,32,06,094,,50,10,095,33*7E\r",
      "\r\n",
      "$GPGLL,1515.75322,N,07358.69504,E,175918.00,A,A*6C\r",
      "\r\n",
      "$GPRMC,175919.00,A,1515.75322,N,07358.69501,E,0.491,,270524,,,A*7B\r",
      "\r\n",
      "$GPVTG,,T,,M,0.491,N,0.910,K,A*27\r",
      "\r\n",
      "$GPGGA,175919.00,1515.75322,N,07358.69501,E,1,05,1.35,4.2,M,-77.6,M,,*72\r",
      "\r\n",
      "$GPGSA,A,3,16,26,28,27,04,,,,,,,,2.04,1.35,1.53*0C\r",
      "\r\n",
      "$GPGSV,4,1,14,01,40,055,38,02,25,229,14,03,55,325,,04,26,325,18*74\r",
      "\r\n",
      "$GPGSV,4,2,14,07,06,244,,08,08,182,,16,62,135,22,21,23,214,16*74\r",
      "\r\n",
      "$GPGSV,4,3,14,26,49,057,39,27,13,151,30,28,06,043,25,31,30,026,*72\r",
      "\r\n",
      "$GPGSV,4,4,14,32,06,094,,50,10,095,33*7E\r",
      "\r\n",
      "$GPGLL,1515.75322,N,07358.69501,E,175919.00,A,A*68\r",
      "\r\n",
      "$GPRMC,175920.00,A,1515.75322,N,07358.69508,E,0.265,,270524,,,A*75\r",
      "\r\n",
      "$GPVTG,,T,,M,0.265,N,0.490,K,A*2F\r",
      "\r\n",
      "$GPGGA,175920.00,1515.75322,N,07358.69508,E,1,05,1.35,4.1,M,-77.6,M,,*72\r",
      "\r\n",
      "$GPGSA,A,3,16,26,28,27,04,,,,,,,,2.04,1.35,1.53*0C\r",
      "\r\n",
      "$GPGSV,4,1,14,01,40,055,38,02,25,229,14,03,55,325,,04,26,325,17*7B\r",
      "\r\n",
      "$GPGSV,4,2,14,07,06,244,,08,08,182,,16,62,135,21,21,23,214,17*76\r",
      "\r\n",
      "$GPGSV,4,3,14,26,49,057,39,27,13,151,30,28,06,043,25,31,30,026,*72\r",
      "\r\n",
      "$GPGSV,4,4,14,32,06,094,,50,10,095,33*7E\r",
      "\r\n",
      "$GPGLL,1515.75322,N,07358.69508,E,175920.00,A,A*6B\r",
      "\r\n"
     ]
    }
   ],
   "source": [
    "%cat /dev/ttyAMA0"
   ]
  }
 ],
 "metadata": {
  "kernelspec": {
   "display_name": "Python 3 (ipykernel)",
   "language": "python",
   "name": "python3"
  },
  "language_info": {
   "codemirror_mode": {
    "name": "ipython",
    "version": 3
   },
   "file_extension": ".py",
   "mimetype": "text/x-python",
   "name": "python",
   "nbconvert_exporter": "python",
   "pygments_lexer": "ipython3",
   "version": "3.11.2"
  }
 },
 "nbformat": 4,
 "nbformat_minor": 5
}
