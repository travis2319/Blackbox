{
 "cells": [
  {
   "cell_type": "code",
   "execution_count": null,
   "id": "4496bd19-c87a-41b5-b69f-e334a33e7574",
   "metadata": {},
   "outputs": [],
   "source": [
    "%pip install obd pandas matplotlib"
   ]
  },
  {
   "cell_type": "code",
   "execution_count": 16,
   "id": "7fa38cab-1147-49f2-a149-327ae80ed52e",
   "metadata": {},
   "outputs": [
    {
     "name": "stdout",
     "output_type": "stream",
     "text": [
      "pandas version: 2.2.2\n",
      "obd version: 0.7.2\n",
      "matplotlib version: 3.8.4\n",
      "Time: Sat May 11 13:01:07 2024\n"
     ]
    }
   ],
   "source": [
    "import pandas as pd\n",
    "import numpy as np\n",
    "import matplotlib\n",
    "import obd\n",
    "import time\n",
    "import datetime\n",
    "\n",
    "# Print library versions\n",
    "print(f\"pandas version: {pd.__version__}\")\n",
    "print(f\"obd version: {obd.__version__}\")\n",
    "print(f\"matplotlib version: {matplotlib.__version__}\")\n",
    "\n",
    "# Print current time\n",
    "print(f\"Time: {datetime.datetime.now().ctime()}\")"
   ]
  },
  {
   "cell_type": "code",
   "execution_count": null,
   "id": "62363180-7650-4b08-b069-73a99e722ab9",
   "metadata": {},
   "outputs": [],
   "source": [
    "# connection = obd.OBD(\"/dev/ttyACM0\") # create connection with USB 0\n",
    "# print(connection)\n",
    "# cmd = obd.commands.COOLANT_TEMP\n",
    "# response = connection.query(cmd)\n",
    "# print(response.value)\n",
    "\n",
    "import obd\n",
    "import time\n",
    "\n",
    "connection = obd.OBD(\"/dev/ttyACM0\")  # create connection with USB 0\n",
    "\n",
    "cmd = obd.commands.COOLANT_TEMP\n",
    "\n",
    "while True:\n",
    "    response = connection.query(cmd)\n",
    "    print(response.value)\n",
    "    time.sleep(1)  # delay for 1 second"
   ]
  },
  {
   "cell_type": "code",
   "execution_count": null,
   "id": "d9e3fe7a-fe54-40ac-a93f-22714b1ff8bd",
   "metadata": {},
   "outputs": [],
   "source": [
    "import obd\n",
    "import pandas as pd\n",
    "import time\n",
    "\n",
    "# Create a connection with the OBD-II interface\n",
    "connection = obd.OBD(\"/dev/ttyACM0\")\n",
    "\n",
    "# Define the command to read the coolant temperature\n",
    "cmd = obd.commands.COOLANT_TEMP\n",
    "\n",
    "# Create a Pandas DataFrame to store the data\n",
    "df = pd.DataFrame(columns=[\"Time\", \"Coolant Temp\"])\n",
    "\n",
    "while True:\n",
    "    # Query the OBD-II interface for the coolant temperature\n",
    "    response = connection.query(cmd)\n",
    "    \n",
    "    # Get the current time\n",
    "    timestamp = datetime.datetime.now().ctime()\n",
    "    \n",
    "    # Store the data in the Pandas DataFrame\n",
    "    df.loc[len(df)] = [timestamp, response.value]\n",
    "    \n",
    "    # Print the data\n",
    "    print(f\"Time: {timestamp}, Coolant Temp: {response.value}\")\n",
    "    \n",
    "    # Delay for 1 second\n",
    "    time.sleep(1)"
   ]
  },
  {
   "cell_type": "code",
   "execution_count": null,
   "id": "81f4cd93-8405-4483-b017-bfff7ad8ee7f",
   "metadata": {},
   "outputs": [],
   "source": [
    "ports = obd.scan_serial()      # return list of valid USB or RF ports\n",
    "print(ports)                   # ['/dev/ttyUSB0', '/dev/ttyUSB1']\n",
    "# connection = obd.OBD() # connect to the first port in the list"
   ]
  },
  {
   "cell_type": "code",
   "execution_count": 2,
   "id": "3a1a43a4-a695-46f3-a8fd-8b8e20e6b502",
   "metadata": {},
   "outputs": [
    {
     "name": "stderr",
     "output_type": "stream",
     "text": [
      "[obd.obd] ======================= python-OBD (v0.7.2) =======================\n",
      "[obd.obd] Explicit port defined\n",
      "[obd.elm327] Initializing ELM327: PORT=/dev/ttyACM0 BAUD=auto PROTOCOL=auto\n",
      "[obd.elm327] could not open port '/dev/ttyACM0': FileNotFoundError(2, 'The system cannot find the path specified.', None, 3)\n",
      "[obd.obd] Closing connection\n",
      "[obd.obd] Cannot load commands: No connection to car\n",
      "[obd.obd] ===================================================================\n",
      "[obd.obd] 'b'010C': Engine RPM' is not supported\n",
      "[obd.asynchronous] Async thread not started because no connection was made\n"
     ]
    }
   ],
   "source": [
    "obd.logger.setLevel(obd.logging.DEBUG)\n",
    "connection = obd.Async(\"/dev/ttyACM0\")\n",
    "\n",
    "# a callback that prints every new value to the console\n",
    "def new_rpm(r):\n",
    "    print (r.value)\n",
    "\n",
    "connection.watch(obd.commands.RPM, callback=new_rpm,force=False)\n",
    "connection.start()\n",
    "\n",
    "# the callback will now be fired upon receipt of new values\n",
    "\n",
    "time.sleep(60)\n",
    "connection.stop()"
   ]
  },
  {
   "cell_type": "code",
   "execution_count": null,
   "id": "cc789e36-2185-43e2-80a9-27c8c014c966",
   "metadata": {},
   "outputs": [],
   "source": [
    "print(\"hello\")\n",
    "obd.logger.setLevel(obd.logging.DEBUG)\n",
    "connection = obd.OBD(\"/dev/ttyACM0\") # create connection with USB 0\n",
    "print(connection)\n",
    "cmd = obd.commands.COOLANT_TEMP\n",
    "response = connection.query(cmd)\n",
    "print(response.value)\n"
   ]
  },
  {
   "cell_type": "code",
   "execution_count": null,
   "id": "330488be-d370-4518-9f0b-e571aaeac297",
   "metadata": {},
   "outputs": [],
   "source": [
    "connection = obd.Async('/dev/ttyACM0')\n",
    "\n",
    "def callback(responses):\n",
    "    for r in responses:\n",
    "        print(r.value)\n",
    "\n",
    "connection.watch(obd.commands.SPEED, callback=callback)\n",
    "connection.watch(obd.commands.FUEL_RATE, callback=callback)\n",
    "connection.start()"
   ]
  }
 ],
 "metadata": {
  "kernelspec": {
   "display_name": "Python 3 (ipykernel)",
   "language": "python",
   "name": "python3"
  },
  "language_info": {
   "codemirror_mode": {
    "name": "ipython",
    "version": 3
   },
   "file_extension": ".py",
   "mimetype": "text/x-python",
   "name": "python",
   "nbconvert_exporter": "python",
   "pygments_lexer": "ipython3",
   "version": "3.11.7"
  }
 },
 "nbformat": 4,
 "nbformat_minor": 5
}
