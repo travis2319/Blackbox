{
 "cells": [
  {
   "cell_type": "markdown",
   "id": "3e81b549",
   "metadata": {},
   "source": [
    "Installing prereauizite modules"
   ]
  },
  {
   "cell_type": "code",
   "execution_count": 1,
   "id": "0e55c841",
   "metadata": {},
   "outputs": [
    {
     "name": "stdout",
     "output_type": "stream",
     "text": [
      "Defaulting to user installation because normal site-packages is not writeable\n",
      "Looking in indexes: https://pypi.org/simple, https://www.piwheels.org/simple\n",
      "Requirement already satisfied: obd in /home/travis/.local/lib/python3.11/site-packages (0.7.2)\n",
      "Requirement already satisfied: numpy in /usr/lib/python3/dist-packages (1.24.2)\n",
      "Requirement already satisfied: pandas in /usr/lib/python3/dist-packages (1.5.3)\n",
      "Requirement already satisfied: matplotlib in /usr/lib/python3/dist-packages (3.6.3)\n",
      "Requirement already satisfied: pyserial==3.* in /usr/lib/python3/dist-packages (from obd) (3.5)\n",
      "Requirement already satisfied: pint==0.20.* in /home/travis/.local/lib/python3.11/site-packages (from obd) (0.20.1)\n",
      "Note: you may need to restart the kernel to use updated packages.\n"
     ]
    }
   ],
   "source": [
    "%pip install obd numpy pandas matplotlib --break-system-packages"
   ]
  },
  {
   "cell_type": "markdown",
   "id": "bdbcc251",
   "metadata": {},
   "source": [
    "Checking versions of modules"
   ]
  },
  {
   "cell_type": "code",
   "execution_count": 1,
   "id": "7fa38cab-1147-49f2-a149-327ae80ed52e",
   "metadata": {},
   "outputs": [
    {
     "name": "stdout",
     "output_type": "stream",
     "text": [
      "pandas version: 1.5.3\n",
      "numpy version: 1.24.2\n",
      "obd version: 0.7.2\n",
      "matplotlib version: 3.6.3\n",
      "1715838548.6339562\n",
      "Time: Thu May 16 06:49:08 2024\n"
     ]
    }
   ],
   "source": [
    "import pandas as pd\n",
    "import numpy as np\n",
    "import matplotlib\n",
    "import obd\n",
    "import time\n",
    "import datetime\n",
    "\n",
    "# Print library versions\n",
    "print(f\"pandas version: {pd.__version__}\")\n",
    "print(f\"numpy version: {np.__version__}\")\n",
    "print(f\"obd version: {obd.__version__}\")\n",
    "print(f\"matplotlib version: {matplotlib.__version__}\")\n",
    "\n",
    "# Print current time\n",
    "print(time.time())\n",
    "print(f\"Time: {datetime.datetime.now().ctime()}\")"
   ]
  },
  {
   "cell_type": "code",
   "execution_count": 2,
   "id": "78570cbc",
   "metadata": {},
   "outputs": [
    {
     "data": {
      "text/plain": [
       "'Car Connected'"
      ]
     },
     "execution_count": 2,
     "metadata": {},
     "output_type": "execute_result"
    }
   ],
   "source": [
    "from obd import OBDStatus\n",
    "\n",
    "# no connection is made\n",
    "OBDStatus.NOT_CONNECTED # \"Not Connected\"\n",
    "\n",
    "# successful communication with the ELM327 adapter\n",
    "OBDStatus.ELM_CONNECTED # \"ELM Connected\"\n",
    "\n",
    "# successful communication with the ELM327 adapter,\n",
    "# OBD port connected to the car, ignition off\n",
    "# (not available with argument \"check_voltage=False\")\n",
    "OBDStatus.OBD_CONNECTED # \"OBD Connected\"\n",
    "\n",
    "# successful communication with the ELM327 and the\n",
    "# vehicle; ignition on\n",
    "OBDStatus.CAR_CONNECTED # \"Car Connected\""
   ]
  },
  {
   "cell_type": "markdown",
   "id": "ae7c6dd9",
   "metadata": {},
   "source": [
    "Checks ports for debuging "
   ]
  },
  {
   "cell_type": "code",
   "execution_count": 4,
   "id": "81f4cd93-8405-4483-b017-bfff7ad8ee7f",
   "metadata": {},
   "outputs": [
    {
     "name": "stdout",
     "output_type": "stream",
     "text": [
      "[]\n"
     ]
    }
   ],
   "source": [
    "ports = obd.scan_serial()      # return list of valid USB or RF ports\n",
    "print(ports)                   # ['/dev/ttyUSB0', '/dev/ttyUSB1']\n",
    "# connection = obd.OBD() # connect to the first port in the list"
   ]
  },
  {
   "cell_type": "code",
   "execution_count": 3,
   "id": "d49d85fb",
   "metadata": {},
   "outputs": [
    {
     "name": "stdout",
     "output_type": "stream",
     "text": [
      "\u001b[0m\u001b[40;33;01m/dev/ttyACM0\u001b[0m\r\n"
     ]
    }
   ],
   "source": [
    "%ls /dev/ttyACM0"
   ]
  },
  {
   "cell_type": "code",
   "execution_count": 4,
   "id": "8bd8c3b1",
   "metadata": {},
   "outputs": [
    {
     "name": "stdout",
     "output_type": "stream",
     "text": [
      "/dev/ttyACM0\n"
     ]
    }
   ],
   "source": [
    "obd_connector=\"/dev/ttyACM0\"\n",
    "print(obd_connector)"
   ]
  },
  {
   "cell_type": "code",
   "execution_count": null,
   "id": "62363180-7650-4b08-b069-73a99e722ab9",
   "metadata": {},
   "outputs": [
    {
     "name": "stderr",
     "output_type": "stream",
     "text": [
      "[obd.obd] ======================= python-OBD (v0.7.2) =======================\n",
      "[obd.obd] Explicit port defined\n",
      "[obd.elm327] Initializing ELM327: PORT=/dev/ttyACM0 BAUD=auto PROTOCOL=auto\n",
      "[obd.elm327] Response from baud 38400: b'^\\r?\\r\\n\\r\\n>\\x7f\\x7f\\r?\\r\\n\\r\\n>'\n",
      "[obd.elm327] Choosing baud 38400\n",
      "[obd.elm327] write: b'ATZ\\r'\n",
      "[obd.elm327] wait: 1 seconds\n",
      "[obd.elm327] read: b'ATZ\\rELM327 v1.5\\r\\n\\r\\n>'\n",
      "[obd.elm327] write: b'ATE0\\r'\n",
      "[obd.elm327] read: b'ATE0\\rOK\\r\\n\\r\\n>'\n",
      "[obd.elm327] write: b'ATH1\\r'\n",
      "[obd.elm327] read: b'OK\\r\\n\\r\\n>'\n",
      "[obd.elm327] write: b'ATL0\\r'\n",
      "[obd.elm327] read: b'OK\\r\\r>'\n",
      "[obd.elm327] write: b'AT RV\\r'\n",
      "[obd.elm327] read: b'12.0V\\r\\r>'\n",
      "[obd.elm327] write: b'ATSP0\\r'\n",
      "[obd.elm327] wait: 1 seconds\n",
      "[obd.elm327] read: b'OK\\r\\r>'\n",
      "[obd.elm327] write: b'0100\\r'\n",
      "[obd.elm327] wait: 1 seconds\n",
      "[obd.elm327] read: b'SEARCHING...\\r7E8 06 41 00 BE 3E B8 1B \\r\\r>'\n",
      "[obd.elm327] write: b'ATDPN\\r'\n",
      "[obd.elm327] read: b'A6\\r\\r>'\n",
      "[obd.protocols.protocol] map ECU 0 --> ENGINE\n",
      "[obd.protocols.protocol] map ECU 1 --> TRANSMISSION\n",
      "[obd.elm327] Connected Successfully: PORT=/dev/ttyACM0 BAUD=38400 PROTOCOL=6\n",
      "[obd.obd] querying for supported commands\n",
      "[obd.obd] Sending command: b'0100': Supported PIDs [01-20]\n",
      "[obd.elm327] write: b'0100\\r'\n",
      "[obd.elm327] read: b'7E8 06 41 00 BE 3E B8 1B \\r\\r>'\n",
      "[obd.obd] Sending command: b'0120': Supported PIDs [21-40]\n",
      "[obd.elm327] write: b'0120\\r'\n",
      "[obd.elm327] read: b'7E8 06 41 20 80 85 A0 11 \\r\\r>'\n",
      "[obd.obd] Sending command: b'0140': Supported PIDs [41-60]\n",
      "[obd.elm327] write: b'0140\\r'\n",
      "[obd.elm327] read: b'7E8 06 41 40 FE D2 04 00 \\r\\r>'\n",
      "[obd.obd] Sending command: b'0600': Supported MIDs [01-20]\n",
      "[obd.elm327] write: b'0600\\r'\n",
      "[obd.elm327] read: b'7E8 06 46 00 C0 00 00 01 \\r\\r>'\n",
      "[obd.obd] Sending command: b'0620': Supported MIDs [21-40]\n",
      "[obd.elm327] write: b'0620\\r'\n",
      "[obd.elm327] read: b'7E8 06 46 20 80 00 08 09 \\r\\r>'\n",
      "[obd.obd] Sending command: b'0640': Supported MIDs [41-60]\n",
      "[obd.elm327] write: b'0640\\r'\n",
      "[obd.elm327] read: b'7E8 06 46 40 C0 00 00 00 \\r\\r>'\n",
      "[obd.obd] Sending command: b'0900': Supported PIDs [01-20]\n",
      "[obd.elm327] write: b'0900\\r'\n",
      "[obd.elm327] read: b'7E8 06 49 00 54 40 00 00 \\r\\r>'\n",
      "[obd.OBDCommand] Message was shorter than expected (6<7). Padded message: bytearray(b'I\\x00T@\\x00\\x00\\x00')\n",
      "[obd.obd] finished querying with 98 commands supported\n",
      "[obd.obd] ===================================================================\n",
      "[obd.obd] Sending command: b'0105': Engine Coolant Temperature\n",
      "[obd.elm327] write: b'0105\\r'\n",
      "[obd.elm327] read: b'7E8 03 41 05 80 \\r\\r>'\n"
     ]
    },
    {
     "name": "stdout",
     "output_type": "stream",
     "text": [
      "88 degree_Celsius\n"
     ]
    },
    {
     "name": "stderr",
     "output_type": "stream",
     "text": [
      "[obd.obd] Sending command: b'010D': Vehicle Speed\n",
      "[obd.elm327] write: b'010D\\r'\n",
      "[obd.elm327] read: b'7E8 03 41 0D 00 \\r\\r>'\n"
     ]
    },
    {
     "name": "stdout",
     "output_type": "stream",
     "text": [
      "0.0 kilometer_per_hour\n"
     ]
    },
    {
     "name": "stderr",
     "output_type": "stream",
     "text": [
      "[obd.obd] Sending command: b'0105': Engine Coolant Temperature\n",
      "[obd.elm327] write: b'01051\\r'\n",
      "[obd.elm327] read: b'7E8 03 41 05 80 \\r\\r>'\n"
     ]
    },
    {
     "name": "stdout",
     "output_type": "stream",
     "text": [
      "88 degree_Celsius\n"
     ]
    },
    {
     "name": "stderr",
     "output_type": "stream",
     "text": [
      "[obd.obd] Sending command: b'010D': Vehicle Speed\n",
      "[obd.elm327] write: b'010D1\\r'\n",
      "[obd.elm327] read: b'7E8 03 41 0D 00 \\r\\r>'\n"
     ]
    },
    {
     "name": "stdout",
     "output_type": "stream",
     "text": [
      "0.0 kilometer_per_hour\n"
     ]
    },
    {
     "name": "stderr",
     "output_type": "stream",
     "text": [
      "[obd.obd] Sending command: b'0105': Engine Coolant Temperature\n",
      "[obd.elm327] write: b'01051\\r'\n",
      "[obd.elm327] read: b'7E8 03 41 05 7F \\r\\r>'\n"
     ]
    },
    {
     "name": "stdout",
     "output_type": "stream",
     "text": [
      "87 degree_Celsius\n"
     ]
    },
    {
     "name": "stderr",
     "output_type": "stream",
     "text": [
      "[obd.obd] Sending command: b'010D': Vehicle Speed\n",
      "[obd.elm327] write: b'010D1\\r'\n",
      "[obd.elm327] read: b'7E8 03 41 0D 00 \\r\\r>'\n"
     ]
    },
    {
     "name": "stdout",
     "output_type": "stream",
     "text": [
      "0.0 kilometer_per_hour\n"
     ]
    },
    {
     "name": "stderr",
     "output_type": "stream",
     "text": [
      "[obd.obd] Sending command: b'0105': Engine Coolant Temperature\n",
      "[obd.elm327] write: b'01051\\r'\n",
      "[obd.elm327] read: b'7E8 03 41 05 7F \\r\\r>'\n"
     ]
    },
    {
     "name": "stdout",
     "output_type": "stream",
     "text": [
      "87 degree_Celsius\n"
     ]
    },
    {
     "name": "stderr",
     "output_type": "stream",
     "text": [
      "[obd.obd] Sending command: b'010D': Vehicle Speed\n",
      "[obd.elm327] write: b'010D1\\r'\n",
      "[obd.elm327] read: b'7E8 03 41 0D 00 \\r\\r>'\n"
     ]
    },
    {
     "name": "stdout",
     "output_type": "stream",
     "text": [
      "0.0 kilometer_per_hour\n"
     ]
    },
    {
     "name": "stderr",
     "output_type": "stream",
     "text": [
      "[obd.obd] Sending command: b'0105': Engine Coolant Temperature\n",
      "[obd.elm327] write: b'01051\\r'\n",
      "[obd.elm327] read: b'7E8 03 41 05 80 \\r\\r>'\n"
     ]
    },
    {
     "name": "stdout",
     "output_type": "stream",
     "text": [
      "88 degree_Celsius\n"
     ]
    },
    {
     "name": "stderr",
     "output_type": "stream",
     "text": [
      "[obd.obd] Sending command: b'010D': Vehicle Speed\n",
      "[obd.elm327] write: b'010D1\\r'\n",
      "[obd.elm327] read: b'7E8 03 41 0D 00 \\r\\r>'\n"
     ]
    },
    {
     "name": "stdout",
     "output_type": "stream",
     "text": [
      "0.0 kilometer_per_hour\n"
     ]
    },
    {
     "name": "stderr",
     "output_type": "stream",
     "text": [
      "[obd.obd] Sending command: b'0105': Engine Coolant Temperature\n",
      "[obd.elm327] write: b'01051\\r'\n",
      "[obd.elm327] read: b'7E8 03 41 05 7F \\r\\r>'\n"
     ]
    },
    {
     "name": "stdout",
     "output_type": "stream",
     "text": [
      "87 degree_Celsius\n"
     ]
    },
    {
     "name": "stderr",
     "output_type": "stream",
     "text": [
      "[obd.obd] Sending command: b'010D': Vehicle Speed\n",
      "[obd.elm327] write: b'010D1\\r'\n",
      "[obd.elm327] read: b'7E8 03 41 0D 00 \\r\\r>'\n"
     ]
    },
    {
     "name": "stdout",
     "output_type": "stream",
     "text": [
      "0.0 kilometer_per_hour\n"
     ]
    },
    {
     "name": "stderr",
     "output_type": "stream",
     "text": [
      "[obd.obd] Sending command: b'0105': Engine Coolant Temperature\n",
      "[obd.elm327] write: b'01051\\r'\n",
      "[obd.elm327] read: b'7E8 03 41 05 7F \\r\\r>'\n"
     ]
    },
    {
     "name": "stdout",
     "output_type": "stream",
     "text": [
      "87 degree_Celsius\n"
     ]
    },
    {
     "name": "stderr",
     "output_type": "stream",
     "text": [
      "[obd.obd] Sending command: b'010D': Vehicle Speed\n",
      "[obd.elm327] write: b'010D1\\r'\n",
      "[obd.elm327] read: b'7E8 03 41 0D 00 \\r\\r>'\n"
     ]
    },
    {
     "name": "stdout",
     "output_type": "stream",
     "text": [
      "0.0 kilometer_per_hour\n"
     ]
    },
    {
     "name": "stderr",
     "output_type": "stream",
     "text": [
      "[obd.obd] Sending command: b'0105': Engine Coolant Temperature\n",
      "[obd.elm327] write: b'01051\\r'\n",
      "[obd.elm327] read: b'7E8 03 41 05 7F \\r\\r>'\n"
     ]
    },
    {
     "name": "stdout",
     "output_type": "stream",
     "text": [
      "87 degree_Celsius\n"
     ]
    },
    {
     "name": "stderr",
     "output_type": "stream",
     "text": [
      "[obd.obd] Sending command: b'010D': Vehicle Speed\n",
      "[obd.elm327] write: b'010D1\\r'\n",
      "[obd.elm327] read: b'7E8 03 41 0D 00 \\r\\r>'\n"
     ]
    },
    {
     "name": "stdout",
     "output_type": "stream",
     "text": [
      "0.0 kilometer_per_hour\n"
     ]
    },
    {
     "name": "stderr",
     "output_type": "stream",
     "text": [
      "[obd.obd] Sending command: b'0105': Engine Coolant Temperature\n",
      "[obd.elm327] write: b'01051\\r'\n",
      "[obd.elm327] read: b'7E8 03 41 05 7F \\r\\r>'\n"
     ]
    },
    {
     "name": "stdout",
     "output_type": "stream",
     "text": [
      "87 degree_Celsius\n"
     ]
    },
    {
     "name": "stderr",
     "output_type": "stream",
     "text": [
      "[obd.obd] Sending command: b'010D': Vehicle Speed\n",
      "[obd.elm327] write: b'010D1\\r'\n",
      "[obd.elm327] read: b'7E8 03 41 0D 00 \\r\\r>'\n"
     ]
    },
    {
     "name": "stdout",
     "output_type": "stream",
     "text": [
      "0.0 kilometer_per_hour\n"
     ]
    },
    {
     "name": "stderr",
     "output_type": "stream",
     "text": [
      "[obd.obd] Sending command: b'0105': Engine Coolant Temperature\n",
      "[obd.elm327] write: b'01051\\r'\n",
      "[obd.elm327] read: b'7E8 03 41 05 7F \\r\\r>'\n"
     ]
    },
    {
     "name": "stdout",
     "output_type": "stream",
     "text": [
      "87 degree_Celsius\n"
     ]
    },
    {
     "name": "stderr",
     "output_type": "stream",
     "text": [
      "[obd.obd] Sending command: b'010D': Vehicle Speed\n",
      "[obd.elm327] write: b'010D1\\r'\n",
      "[obd.elm327] read: b'7E8 03 41 0D 00 \\r\\r>'\n"
     ]
    },
    {
     "name": "stdout",
     "output_type": "stream",
     "text": [
      "0.0 kilometer_per_hour\n"
     ]
    }
   ],
   "source": [
    "# connection = obd.OBD(obd_connector) # create connection with USB 0\n",
    "# print(connection)\n",
    "# cmd = obd.commands.COOLANT_TEMP\n",
    "# response = connection.query(cmd)\n",
    "# print(response.value)\n",
    "\n",
    "#xxxxxxxxxxxxxxxxxxxxxxxxxxxxxxxxxxxxxxxxxxxxxxxxxxxxxxxxxxxxxxxxxxxx\n",
    "obd.logger.setLevel(obd.logging.DEBUG)\n",
    "connection = obd.OBD(obd_connector)  # create connection with USB 0\n",
    "counter=0\n",
    "\n",
    "while counter <10:\n",
    "    cmd1 = obd.commands.COOLANT_TEMP\n",
    "    response = connection.query(cmd1)\n",
    "    print(response.value)\n",
    "    time.sleep(3)  # delay for 1 second\n",
    "    cmd2 = obd.commands.SPEED\n",
    "    response = connection.query(cmd2)\n",
    "    print(response.value)\n",
    "    time.sleep(3)  # delay for 1 second\n",
    "    counter=counter+1"
   ]
  },
  {
   "cell_type": "markdown",
   "id": "91ccb1b5",
   "metadata": {},
   "source": [
    "Below code request's only one query and store it in csv using pandas"
   ]
  },
  {
   "cell_type": "code",
   "execution_count": null,
   "id": "d9e3fe7a-fe54-40ac-a93f-22714b1ff8bd",
   "metadata": {},
   "outputs": [],
   "source": [
    "# Create a connection with the OBD-II interface\n",
    "connection = obd.OBD(obd_connector)\n",
    "\n",
    "# Define the command to read the coolant temperature\n",
    "cmd1 = obd.commands.COOLANT_TEMP\n",
    "cmd2 = obd.commands.SPEED\n",
    "counter=0\n",
    "# Create a Pandas DataFrame to store the data\n",
    "df = pd.DataFrame(columns=[\"Time\", \"Coolant Temp\",\"SPEED\"])\n",
    "\n",
    "while counter <10:\n",
    "    # Query the OBD-II interface for the coolant temperature\n",
    "    response1 = connection.query(cmd1)\n",
    "    \n",
    "    # Delay for 3 seconds\n",
    "    time.sleep(3)\n",
    "    \n",
    "    # Query the OBD-II interface for the Speed\n",
    "    response2 = connection.query(cmd2)\n",
    "    \n",
    "    # Store the data in the Pandas DataFrame\n",
    "    # df.loc[len(df)] = [timestamp, response1.value,response2.value]\n",
    "\n",
    "    # Get the current time\n",
    "    timestamp = datetime.datetime.now().ctime()\n",
    "    # Print the data\n",
    "    print(f\"Counter: {counter}, Time: {timestamp}, Coolant Temp: {response1.value}, Speed: {response2.value}\")\n",
    "    \n",
    "    # Delay for 1 second\n",
    "    time.sleep(1)\n",
    "    counter=counter+1"
   ]
  },
  {
   "cell_type": "code",
   "execution_count": 8,
   "id": "2f8a7a16",
   "metadata": {},
   "outputs": [
    {
     "name": "stdout",
     "output_type": "stream",
     "text": [
      "Counter: 0, Time: Sun May 12 16:48:25 2024, Coolant Temp: 88 degree_Celsius, Speed: 48.0 kilometer_per_hour, Engine_Load 20.784313725490197 percent, Run_time: 6375.0 second. Throttle_pos_b: 20.0 percent\n",
      "Counter: 1, Time: Sun May 12 16:48:39 2024, Coolant Temp: 88 degree_Celsius, Speed: 53.0 kilometer_per_hour, Engine_Load 34.90196078431372 percent, Run_time: 6388.0 second. Throttle_pos_b: 18.431372549019606 percent\n",
      "Counter: 2, Time: Sun May 12 16:48:52 2024, Coolant Temp: 90 degree_Celsius, Speed: 42.0 kilometer_per_hour, Engine_Load 28.235294117647058 percent, Run_time: 6402.0 second. Throttle_pos_b: 23.92156862745098 percent\n",
      "Counter: 3, Time: Sun May 12 16:49:05 2024, Coolant Temp: 90 degree_Celsius, Speed: 56.0 kilometer_per_hour, Engine_Load 41.568627450980394 percent, Run_time: 6415.0 second. Throttle_pos_b: 17.647058823529413 percent\n",
      "Counter: 4, Time: Sun May 12 16:49:18 2024, Coolant Temp: 90 degree_Celsius, Speed: 44.0 kilometer_per_hour, Engine_Load 22.352941176470587 percent, Run_time: 6428.0 second. Throttle_pos_b: 18.431372549019606 percent\n",
      "Counter: 5, Time: Sun May 12 16:49:31 2024, Coolant Temp: 89 degree_Celsius, Speed: 51.0 kilometer_per_hour, Engine_Load 16.07843137254902 percent, Run_time: 6441.0 second. Throttle_pos_b: 18.823529411764707 percent\n",
      "Counter: 6, Time: Sun May 12 16:49:45 2024, Coolant Temp: 87 degree_Celsius, Speed: 48.0 kilometer_per_hour, Engine_Load 18.431372549019606 percent, Run_time: 6454.0 second. Throttle_pos_b: 16.862745098039216 percent\n",
      "Counter: 7, Time: Sun May 12 16:49:58 2024, Coolant Temp: 87 degree_Celsius, Speed: 38.0 kilometer_per_hour, Engine_Load 29.80392156862745 percent, Run_time: 6468.0 second. Throttle_pos_b: 25.49019607843137 percent\n",
      "Counter: 8, Time: Sun May 12 16:50:11 2024, Coolant Temp: 87 degree_Celsius, Speed: 43.0 kilometer_per_hour, Engine_Load 52.15686274509804 percent, Run_time: 6481.0 second. Throttle_pos_b: 18.823529411764707 percent\n",
      "Counter: 9, Time: Sun May 12 16:50:24 2024, Coolant Temp: 88 degree_Celsius, Speed: 49.0 kilometer_per_hour, Engine_Load 16.862745098039216 percent, Run_time: 6494.0 second. Throttle_pos_b: 17.254901960784313 percent\n",
      "                       Time       Coolant Temp                    SPEED  \\\n",
      "0  Sun May 12 16:48:25 2024  88 degree_Celsius  48.0 kilometer_per_hour   \n",
      "1  Sun May 12 16:48:39 2024  88 degree_Celsius  53.0 kilometer_per_hour   \n",
      "2  Sun May 12 16:48:52 2024  90 degree_Celsius  42.0 kilometer_per_hour   \n",
      "3  Sun May 12 16:49:05 2024  90 degree_Celsius  56.0 kilometer_per_hour   \n",
      "4  Sun May 12 16:49:18 2024  90 degree_Celsius  44.0 kilometer_per_hour   \n",
      "5  Sun May 12 16:49:31 2024  89 degree_Celsius  51.0 kilometer_per_hour   \n",
      "6  Sun May 12 16:49:45 2024  87 degree_Celsius  48.0 kilometer_per_hour   \n",
      "7  Sun May 12 16:49:58 2024  87 degree_Celsius  38.0 kilometer_per_hour   \n",
      "8  Sun May 12 16:50:11 2024  87 degree_Celsius  43.0 kilometer_per_hour   \n",
      "9  Sun May 12 16:50:24 2024  88 degree_Celsius  49.0 kilometer_per_hour   \n",
      "\n",
      "                  Engine Load       Run time              Throttle_pos_b  \n",
      "0  20.784313725490197 percent  6375.0 second                20.0 percent  \n",
      "1   34.90196078431372 percent  6388.0 second  18.431372549019606 percent  \n",
      "2  28.235294117647058 percent  6402.0 second   23.92156862745098 percent  \n",
      "3  41.568627450980394 percent  6415.0 second  17.647058823529413 percent  \n",
      "4  22.352941176470587 percent  6428.0 second  18.431372549019606 percent  \n",
      "5   16.07843137254902 percent  6441.0 second  18.823529411764707 percent  \n",
      "6  18.431372549019606 percent  6454.0 second  16.862745098039216 percent  \n",
      "7   29.80392156862745 percent  6468.0 second   25.49019607843137 percent  \n",
      "8   52.15686274509804 percent  6481.0 second  18.823529411764707 percent  \n",
      "9  16.862745098039216 percent  6494.0 second  17.254901960784313 percent  \n"
     ]
    }
   ],
   "source": [
    "import pandas as pd\n",
    "\n",
    "# Create a connection with the OBD-II interface\n",
    "connection = obd.OBD(obd_connector)\n",
    "\n",
    "# Define the command to read the coolant temperature\n",
    "cmd1 = obd.commands.COOLANT_TEMP\n",
    "cmd2 = obd.commands.SPEED\n",
    "cmd3= obd.commands.ENGINE_LOAD\n",
    "cmd4 = obd.commands.RUN_TIME\n",
    "cmd5 = obd.commands.THROTTLE_POS_B\n",
    "\n",
    "counter = 0\n",
    "\n",
    "# Create a Pandas DataFrame to store the data\n",
    "df = pd.DataFrame(columns=[\"Time\", \"Coolant Temp\", \"SPEED\",\"Engine Load\",\"Run time\",\"Throttle_pos_b\"])\n",
    "\n",
    "while counter < 10:\n",
    "    # Query the OBD-II interface for the coolant temperature\n",
    "    response1 = connection.query(cmd1)\n",
    "\n",
    "    # Delay for 3 seconds\n",
    "    time.sleep(3)\n",
    "\n",
    "    # Query the OBD-II interface for the Speed\n",
    "    response2 = connection.query(cmd2)\n",
    "    \n",
    "    time.sleep(3)\n",
    "\n",
    "    # Query the OBD-II interface for the Speed\n",
    "    response3 = connection.query(cmd3)\n",
    "    \n",
    "    time.sleep(3)\n",
    "\n",
    "    # Query the OBD-II interface for the Speed\n",
    "    response4 = connection.query(cmd4)\n",
    "    \n",
    "    time.sleep(3)\n",
    "\n",
    "    # Query the OBD-II interface for the Speed\n",
    "    response5 = connection.query(cmd5)\n",
    "\n",
    "    # Get the current time\n",
    "    timestamp = datetime.datetime.now().ctime()\n",
    "\n",
    "    # Store the data in the Pandas DataFrame\n",
    "    df.loc[counter] = [timestamp, str(response1.value), str(response2.value),str(response3.value),str(response4.value),str(response5.value)]\n",
    "\n",
    "    # Print the data\n",
    "    print(f\"Counter: {counter}, Time: {timestamp}, Coolant Temp: {response1.value}, Speed: {response2.value}, Engine_Load {response3.value}, Run_time: {response4.value}. Throttle_pos_b: {response5.value}\")\n",
    "\n",
    "    # Delay for 1 second\n",
    "    time.sleep(1)\n",
    "    counter = counter + 1\n",
    "    \n",
    "print(df)\n",
    "df.to_csv('log.csv')"
   ]
  },
  {
   "cell_type": "code",
   "execution_count": null,
   "id": "3a1a43a4-a695-46f3-a8fd-8b8e20e6b502",
   "metadata": {},
   "outputs": [],
   "source": [
    "obd.logger.setLevel(obd.logging.DEBUG)\n",
    "connection = obd.Async(obd_connector)\n",
    "\n",
    "# a callback that prints every new value to the console\n",
    "def new_rpm(r):\n",
    "    print (r.value)\n",
    "\n",
    "connection.watch(obd.commands.COOLANT_TEMP, callback=new_rpm)\n",
    "connection.start()\n",
    "\n",
    "# the callback will now be fired upon receipt of new values\n",
    "\n",
    "time.sleep(10)\n",
    "connection.stop()"
   ]
  },
  {
   "cell_type": "code",
   "execution_count": null,
   "id": "cc789e36-2185-43e2-80a9-27c8c014c966",
   "metadata": {},
   "outputs": [],
   "source": [
    "print(\"hello\")\n",
    "obd.logger.setLevel(obd.logging.DEBUG)\n",
    "connection = obd.OBD(\"/dev/ttyACM0\") # create connection with USB 0\n",
    "print(connection)\n",
    "cmd = obd.commands.COOLANT_TEMP\n",
    "response = connection.query(cmd)\n",
    "print(response.value)\n"
   ]
  },
  {
   "cell_type": "code",
   "execution_count": null,
   "id": "330488be-d370-4518-9f0b-e571aaeac297",
   "metadata": {},
   "outputs": [],
   "source": [
    "connection = obd.Async('/dev/ttyACM0')\n",
    "\n",
    "def new_rpm(responses):\n",
    "#     for r in responses:\n",
    "      print(responses.value)\n",
    "\n",
    "connection.watch(obd.commands.SPEED, callback=new_rpm)\n",
    "connection.watch(obd.commands.COOLANT_TEMP, callback=new_rpm)\n",
    "connection.start()\n",
    "\n",
    "time.sleep(10)\n",
    "connection.stop()"
   ]
  },
  {
   "cell_type": "code",
   "execution_count": 10,
   "id": "2b41c54e",
   "metadata": {},
   "outputs": [
    {
     "name": "stdout",
     "output_type": "stream",
     "text": [
      "56.0 kilometer_per_hour\n",
      "90 degree_Celsius\n",
      "21.176470588235293 percent\n",
      "20.392156862745097 percent\n",
      "56.0 kilometer_per_hour\n",
      "90 degree_Celsius\n",
      "21.176470588235293 percent\n",
      "20.392156862745097 percent\n",
      "56.0 kilometer_per_hour\n",
      "90 degree_Celsius\n",
      "21.176470588235293 percent\n",
      "20.392156862745097 percent\n",
      "56.0 kilometer_per_hour\n",
      "90 degree_Celsius\n",
      "21.176470588235293 percent\n",
      "20.392156862745097 percent\n",
      "56.0 kilometer_per_hour\n",
      "90 degree_Celsius\n",
      "20.784313725490197 percent\n",
      "20.392156862745097 percent\n",
      "56.0 kilometer_per_hour\n",
      "90 degree_Celsius\n",
      "21.176470588235293 percent\n",
      "20.392156862745097 percent\n",
      "56.0 kilometer_per_hour\n",
      "90 degree_Celsius\n",
      "24.313725490196077 percent\n",
      "21.176470588235293 percent\n",
      "56.0 kilometer_per_hour\n",
      "90 degree_Celsius\n",
      "62.35294117647059 percent\n",
      "27.058823529411764 percent\n",
      "57.0 kilometer_per_hour\n",
      "90 degree_Celsius\n",
      "68.62745098039215 percent\n",
      "28.235294117647058 percent\n",
      "58.0 kilometer_per_hour\n",
      "90 degree_Celsius\n",
      "68.62745098039215 percent\n",
      "28.235294117647058 percent\n",
      "59.0 kilometer_per_hour\n",
      "90 degree_Celsius\n",
      "74.50980392156863 percent\n",
      "30.19607843137255 percent\n",
      "60.0 kilometer_per_hour\n",
      "90 degree_Celsius\n",
      "79.2156862745098 percent\n",
      "32.15686274509804 percent\n",
      "61.0 kilometer_per_hour\n",
      "90 degree_Celsius\n",
      "84.31372549019608 percent\n",
      "30.980392156862745 percent\n",
      "61.0 kilometer_per_hour\n",
      "90 degree_Celsius\n",
      "19.607843137254903 percent\n",
      "18.431372549019606 percent\n",
      "61.0 kilometer_per_hour\n",
      "90 degree_Celsius\n",
      "19.607843137254903 percent\n",
      "18.431372549019606 percent\n",
      "61.0 kilometer_per_hour\n",
      "90 degree_Celsius\n",
      "22.352941176470587 percent\n",
      "18.03921568627451 percent\n",
      "61.0 kilometer_per_hour\n",
      "90 degree_Celsius\n",
      "23.529411764705884 percent\n",
      "17.647058823529413 percent\n",
      "60.0 kilometer_per_hour\n",
      "90 degree_Celsius\n",
      "23.137254901960784 percent\n",
      "20.0 percent\n",
      "60.0 kilometer_per_hour\n",
      "90 degree_Celsius\n",
      "32.94117647058823 percent\n",
      "21.176470588235293 percent\n",
      "60.0 kilometer_per_hour\n",
      "90 degree_Celsius\n",
      "43.529411764705884 percent\n",
      "23.92156862745098 percent\n",
      "60.0 kilometer_per_hour\n",
      "90 degree_Celsius\n",
      "68.23529411764706 percent\n",
      "26.666666666666668 percent\n",
      "60.0 kilometer_per_hour\n",
      "90 degree_Celsius\n",
      "69.80392156862744 percent\n",
      "26.274509803921568 percent\n",
      "60.0 kilometer_per_hour\n",
      "90 degree_Celsius\n",
      "71.76470588235294 percent\n",
      "27.45098039215686 percent\n",
      "61.0 kilometer_per_hour\n",
      "90 degree_Celsius\n",
      "74.90196078431373 percent\n",
      "27.84313725490196 percent\n",
      "62.0 kilometer_per_hour\n",
      "90 degree_Celsius\n",
      "80.7843137254902 percent\n",
      "29.019607843137255 percent\n"
     ]
    }
   ],
   "source": [
    "connection = obd.Async('/dev/ttyACM0')\n",
    "\n",
    "df = pd.DataFrame(columns=[\"Time\", \"Coolant Temp\", \"Engine Load\",\"Throttle_pos_b\"])\n",
    "\n",
    "def new_rpm(responses):\n",
    "      print(responses.value)\n",
    "\n",
    "def coolant_temp(responses):\n",
    "      print(responses.value)\n",
    "\n",
    "def engine_load(responses):\n",
    "      print(responses.value)\n",
    "\n",
    "def fuel_type(responses):\n",
    "      print(responses.value)\n",
    "\n",
    "connection.watch(obd.commands.SPEED, callback=new_rpm)\n",
    "connection.watch(obd.commands.COOLANT_TEMP, callback=coolant_temp)\n",
    "connection.watch(obd.commands.ENGINE_LOAD, callback=engine_load)\n",
    "connection.watch(obd.commands.THROTTLE_POS_B, callback=fuel_type)\n",
    "connection.start()\n",
    "\n",
    "time.sleep(10)\n",
    "connection.stop()"
   ]
  },
  {
   "cell_type": "code",
   "execution_count": null,
   "id": "fed92445-9444-4fb5-8ebc-e43dc68e6a0e",
   "metadata": {},
   "outputs": [],
   "source": [
    "connection = obd.Async('/dev/ttyACM0')\n",
    "\n",
    "df = pd.DataFrame(columns=[\"Start_Time\",\"SPEED\", \"Coolant Temp\", \"Engine Load\",\"Throttle_pos_b\",\"End_Time\"])\n",
    "\n",
    "def new_rpm(responses):\n",
    "    start_timestamp = time.time()\n",
    "    speed = responses.value\n",
    "    df.loc[len(df)] = [timestamp,speed, None, None, None]\n",
    "\n",
    "def coolant_temp(responses):\n",
    "    # timestamp = time.time()\n",
    "    temp = responses.value\n",
    "    df.loc[len(df) - 1, \"Coolant Temp\"] = temp\n",
    "\n",
    "def engine_load(responses):\n",
    "    # timestamp = time.time()\n",
    "    load = responses.value\n",
    "    df.loc[len(df) - 1, \"Engine Load\"] = load\n",
    "\n",
    "def throttle_pos(responses):\n",
    "    end_timestamp = time.time()\n",
    "    throttle = responses.value\n",
    "    df.loc[len(df) - 1, \"Throttle_pos_b\"] = throttle\n",
    "    df.loc[len(df) - 1, \"End_Time\"] = end_timestamp\n",
    "\n",
    "connection.watch(obd.commands.SPEED, callback=new_rpm)\n",
    "connection.watch(obd.commands.COOLANT_TEMP, callback=coolant_temp)\n",
    "connection.watch(obd.commands.ENGINE_LOAD, callback=engine_load)\n",
    "connection.watch(obd.commands.THROTTLE_POS_B, callback=fuel_type)\n",
    "connection.start()\n",
    "\n",
    "time.sleep(10)\n",
    "connection.stop()\n",
    "\n",
    "print(df)\n",
    "df.to_csv('async_log.csv') "
   ]
  }
 ],
 "metadata": {
  "kernelspec": {
   "display_name": "Python 3 (ipykernel)",
   "language": "python",
   "name": "python3"
  },
  "language_info": {
   "codemirror_mode": {
    "name": "ipython",
    "version": 3
   },
   "file_extension": ".py",
   "mimetype": "text/x-python",
   "name": "python",
   "nbconvert_exporter": "python",
   "pygments_lexer": "ipython3",
   "version": "3.11.2"
  }
 },
 "nbformat": 4,
 "nbformat_minor": 5
}
